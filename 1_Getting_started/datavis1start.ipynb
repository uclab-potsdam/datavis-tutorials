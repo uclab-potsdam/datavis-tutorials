{
  "cells": [
    {
      "cell_type": "markdown",
      "source": "# Tutorial 1: Getting started\n\nDuring the tutorials you will be reading and writing **Python** code in **Jupyter** notebooks on the **Deepnote** platform. \n\nPhew… Let's unpack this a bit!\n\n* 🐍 [Python](https://www.python.org) is a programming language that has gained considerable traction over the last years, in various contexts, including data science and the digital humanities. If you have never written any Python before, it would be useful for you to familiarize yourself with the language, its basic constructs and conventions. It is popular for its versatility and readability. Speaking of which…\n\n* 🪐 [Jupyter](https://jupyter.org) notebooks are hybrid documents that contain both code and markup. So it becomes possible to mix programming visualizations, interacting with them, and adding documentation. What you are looking at now is a text cell written in the markup language Markdown, further below you see code cells (note the light grey background), which contain computable code written in the programming language Python! When viewing the notebooks on Deepnote or in Jupyter, you can double-click the text cell to see its source. \n\n* 📝 [Deepnote](https://deepnote.com) is a web-based environment to view, edit, run and share Jupyter notebooks from the comfort of your web browser. This also means you can use their computing power to do some number crunching and it makes it easy to share, discuss and run tutorials. When you open a notebook in edit mode, you are able to execute and edit any cell.\n\nIn this tutorial you will get a bit acquainted with Python, Jupyter and Deepnote, and get to know a few handy libraries for working with data.",
      "metadata": {
        "id": "YETb0LFvlyxW",
        "button": false,
        "cell_id": "b30910e5dacd4d07bfc869dc5dcde40d",
        "new_sheet": false,
        "colab_type": "text",
        "run_control": {
          "read_only": false
        },
        "deepnote_app_coordinates": {
          "h": 25,
          "w": 12,
          "x": 0,
          "y": 1
        },
        "deepnote_cell_type": "markdown"
      }
    },
    {
      "cell_type": "markdown",
      "source": "## 🌍 Hello world \n\nOkay, enough words. Let's dive right into it and start with a classic:",
      "metadata": {
        "id": "hIwGbqu6C-xs",
        "cell_id": "a6985bf2869f4b8f823c8025cd6a3cfd",
        "colab_type": "text",
        "deepnote_cell_height": 108,
        "deepnote_app_coordinates": {
          "h": 5,
          "w": 12,
          "x": 0,
          "y": 27
        },
        "deepnote_cell_type": "markdown"
      }
    },
    {
      "cell_type": "code",
      "source": "print(\"hello world\")",
      "metadata": {
        "id": "R65CfhjLlN0x",
        "colab": {
          "height": 34,
          "base_uri": "https://localhost:8080/"
        },
        "cell_id": "77e0a24b211a4f0abee211e1989564ee",
        "outputId": "6bc6e9c5-19a7-4415-f941-99efffd674c7",
        "colab_type": "code",
        "source_hash": "754c0256",
        "executionInfo": {
          "user": {
            "userId": "05248840544598202773",
            "photoUrl": "https://lh3.googleusercontent.com/a-/AOh14GhqiajTdRS6NXELnqFzS3NNM3uxy6nUDGSMCjvAjw=s64",
            "displayName": "Marian Dörk"
          },
          "status": "ok",
          "elapsed": 646,
          "user_tz": -120,
          "timestamp": 1598360698873
        },
        "execution_start": 1680816352625,
        "execution_millis": 1,
        "deepnote_app_coordinates": {
          "h": 5,
          "w": 12,
          "x": 0,
          "y": 33
        },
        "deepnote_to_be_reexecuted": false,
        "deepnote_cell_type": "code"
      },
      "outputs": [
        {
          "name": "stdout",
          "text": "hello world\n",
          "output_type": "stream"
        }
      ],
      "execution_count": 1
    },
    {
      "cell_type": "markdown",
      "source": "Above code cell can be executed (i.e., run) by clicking on ▶️ to the right of the block after clicking into the code cell. Can you see it? Depending on the environment you're in, it might also look differently.\n\nTo be able to edit any cell for yourself, you need to make a copy of this notebook. If you do not want to use Deepnote, you can also download this notebook and run it on your own computer with a local installation of Jupyter Notebook.\n\nOf course we can set variables and extend them. Feel free to change the message:",
      "metadata": {
        "id": "wxMjevMRMp5x",
        "cell_id": "4fe28f266bb24a568390538544e96073",
        "colab_type": "text",
        "owner_user_id": "7acd62a9-00ed-4bef-a710-81596b83039a",
        "deepnote_cell_height": 212,
        "deepnote_app_coordinates": {
          "h": 9,
          "w": 12,
          "x": 0,
          "y": 39
        },
        "deepnote_cell_type": "markdown"
      }
    },
    {
      "cell_type": "code",
      "source": "hello = \"hello world!\"\nhello = hello + \" how are you?\"\nhello",
      "metadata": {
        "id": "Db3jY1JiMkSP",
        "colab": {
          "height": 37,
          "base_uri": "https://localhost:8080/"
        },
        "cell_id": "877540cf319346d4bdb68a37b53a08f9",
        "outputId": "95671b01-c79a-4fb5-eaeb-5e05a9eed8e2",
        "colab_type": "code",
        "source_hash": "7a004370",
        "executionInfo": {
          "user": {
            "userId": "05248840544598202773",
            "photoUrl": "https://lh3.googleusercontent.com/a-/AOh14GhqiajTdRS6NXELnqFzS3NNM3uxy6nUDGSMCjvAjw=s64",
            "displayName": "Marian Dörk"
          },
          "status": "ok",
          "elapsed": 898,
          "user_tz": -120,
          "timestamp": 1598360699140
        },
        "execution_start": 1680816352625,
        "execution_millis": 6,
        "deepnote_app_coordinates": {
          "h": 6,
          "w": 12,
          "x": 0,
          "y": 49
        },
        "deepnote_to_be_reexecuted": false,
        "deepnote_cell_type": "code"
      },
      "outputs": [
        {
          "output_type": "execute_result",
          "execution_count": 2,
          "data": {
            "text/plain": "'hello world! how are you?'"
          },
          "metadata": {}
        }
      ],
      "execution_count": 2
    },
    {
      "cell_type": "markdown",
      "source": "Now that we have our first variable `hello` we can perform some string tricks, for example, we could change the capitalization:",
      "metadata": {
        "id": "wfXk4Bon1Yk5",
        "cell_id": "f6ece01db9f24a3f8aef6e69951d3911",
        "colab_type": "text",
        "deepnote_cell_height": 74,
        "deepnote_app_coordinates": {
          "h": 3,
          "w": 12,
          "x": 0,
          "y": 56
        },
        "deepnote_cell_type": "markdown"
      }
    },
    {
      "cell_type": "code",
      "source": "hello.title()",
      "metadata": {
        "id": "083ukp0a5OOu",
        "colab": {
          "height": 37,
          "base_uri": "https://localhost:8080/"
        },
        "cell_id": "e0e7181e05624593a1293d7f3b67fd44",
        "outputId": "b5a8714c-d277-478e-8a42-c0f0481b4aba",
        "colab_type": "code",
        "source_hash": "5bab225f",
        "executionInfo": {
          "user": {
            "userId": "05248840544598202773",
            "photoUrl": "https://lh3.googleusercontent.com/a-/AOh14GhqiajTdRS6NXELnqFzS3NNM3uxy6nUDGSMCjvAjw=s64",
            "displayName": "Marian Dörk"
          },
          "status": "ok",
          "elapsed": 889,
          "user_tz": -120,
          "timestamp": 1598360699141
        },
        "execution_start": 1680816352669,
        "execution_millis": 3,
        "deepnote_app_coordinates": {
          "h": 5,
          "w": 12,
          "x": 0,
          "y": 60
        },
        "deepnote_to_be_reexecuted": false,
        "deepnote_cell_type": "code"
      },
      "outputs": [
        {
          "output_type": "execute_result",
          "execution_count": 3,
          "data": {
            "text/plain": "'Hello World! How Are You?'"
          },
          "metadata": {}
        }
      ],
      "execution_count": 3
    },
    {
      "cell_type": "code",
      "source": "hello.upper()",
      "metadata": {
        "id": "VAoTCbnmWpyz",
        "colab": {
          "height": 37,
          "base_uri": "https://localhost:8080/"
        },
        "cell_id": "549d0822dd3542d29930a779600c2935",
        "outputId": "66da4ec9-ac44-480e-baab-09c1f6b7f156",
        "colab_type": "code",
        "source_hash": "4cbeed02",
        "executionInfo": {
          "user": {
            "userId": "05248840544598202773",
            "photoUrl": "https://lh3.googleusercontent.com/a-/AOh14GhqiajTdRS6NXELnqFzS3NNM3uxy6nUDGSMCjvAjw=s64",
            "displayName": "Marian Dörk"
          },
          "status": "ok",
          "elapsed": 878,
          "user_tz": -120,
          "timestamp": 1598360699141
        },
        "execution_start": 1680816352668,
        "execution_millis": 4,
        "deepnote_app_coordinates": {
          "h": 5,
          "w": 12,
          "x": 0,
          "y": 66
        },
        "deepnote_to_be_reexecuted": false,
        "deepnote_cell_type": "code"
      },
      "outputs": [
        {
          "output_type": "execute_result",
          "execution_count": 4,
          "data": {
            "text/plain": "'HELLO WORLD! HOW ARE YOU?'"
          },
          "metadata": {}
        }
      ],
      "execution_count": 4
    },
    {
      "cell_type": "markdown",
      "source": "✏️ *Now it's your turn! (The pencil stands for a small hands-on activity!). Try some string manipulations yourself. To get some inspiration, have a look at the [string methods](https://docs.python.org/3/library/stdtypes.html?#string-methods) that Python has built-in:*",
      "metadata": {
        "id": "9wDVk_w9BVe0",
        "cell_id": "bd3afddb2a4c4c528ef005c8c94f687b",
        "colab_type": "text",
        "deepnote_cell_height": 96,
        "deepnote_app_coordinates": {
          "h": 4,
          "w": 12,
          "x": 0,
          "y": 72
        },
        "deepnote_cell_type": "markdown"
      }
    },
    {
      "cell_type": "code",
      "source": "",
      "metadata": {
        "cell_id": "0482ec6bdc7e48a9b9dadd38d91dbe9a",
        "source_hash": "b623e53d",
        "execution_start": 1680816352673,
        "execution_millis": 5,
        "deepnote_app_coordinates": {
          "h": 3,
          "w": 12,
          "x": 0,
          "y": 77
        },
        "deepnote_to_be_reexecuted": false,
        "deepnote_cell_type": "code"
      },
      "outputs": [],
      "execution_count": 5
    },
    {
      "cell_type": "markdown",
      "source": "## 📦 Let's get some packages\n\nPython itself provides only limited methods for working with more complex data. One of the main reasons for Python's (and  Jupyter's) popularity is the wide availability of software packages that provide powerful means for 🛒 preparing, 🥒 processing, and 🥗 presenting data. The tutorials will help you to pass through these steps with the help of several packages, some of them highly specific tools and others more general-purpose libraries. \n\nThe Deepnote platform already has many packages ready to go. To use them in a notebook, you simply `import` them and assign an abbreviation after `as` to keep your code succinct. This is how you do it:",
      "metadata": {
        "id": "UjMp0emzDY19",
        "cell_id": "756e9e43105e4a47832cc7fc3886eb94",
        "colab_type": "text",
        "deepnote_cell_height": 276,
        "deepnote_app_coordinates": {
          "h": 12,
          "w": 12,
          "x": 0,
          "y": 81
        },
        "deepnote_cell_type": "markdown"
      }
    },
    {
      "cell_type": "code",
      "source": "import pandas as pd",
      "metadata": {
        "id": "xkOALOiiGs-G",
        "colab": {},
        "cell_id": "f606aa9cc1c64d178c1c3aa7f7c81286",
        "colab_type": "code",
        "source_hash": "9b82ee11",
        "execution_start": 1680816352676,
        "execution_millis": 2,
        "deepnote_app_coordinates": {
          "h": 3,
          "w": 12,
          "x": 0,
          "y": 94
        },
        "deepnote_to_be_reexecuted": false,
        "deepnote_cell_type": "code"
      },
      "outputs": [],
      "execution_count": 5
    },
    {
      "cell_type": "markdown",
      "source": "Now the powerful `pandas` package is loaded and will answer to its nickname `pd`.\n\n🐼 [Pandas](https://pandas.pydata.org) is really a data analysis workhorse with the DataFrame data structure being one of its main muscles. You will learn to love it! With pandas you can do simple and sophisticated operations over small and sizable datasets. \n\nLet's create a little toy dataset to give you a sense of how it looks and works:\n",
      "metadata": {
        "id": "4GkVEmvxJFyC",
        "cell_id": "1462ced5d6c440cc92c7bfed5a181a7f",
        "colab_type": "text",
        "deepnote_cell_height": 168,
        "deepnote_app_coordinates": {
          "h": 7,
          "w": 12,
          "x": 0,
          "y": 98
        },
        "deepnote_cell_type": "markdown"
      }
    },
    {
      "cell_type": "code",
      "source": "cities = pd.DataFrame({\n  \"name\": [\"Athens\", \"Bratislava\", \"Copenhagen\", \"Dublin\"],\n  \"area\": [39, 367.6, 86.2, 115],\n  \"elevation\": [170, 152, 14, 20],\n  \"population\": [664046, 429564, 602481, 553165]\n  }\n)",
      "metadata": {
        "id": "XFmCkuuENNGl",
        "colab": {},
        "cell_id": "5b5264d3704944a3bdd1877ee7fe284f",
        "colab_type": "code",
        "source_hash": "97a7ef77",
        "execution_start": 1680816352683,
        "execution_millis": 1,
        "deepnote_app_coordinates": {
          "h": 8,
          "w": 12,
          "x": 0,
          "y": 106
        },
        "deepnote_to_be_reexecuted": false,
        "deepnote_cell_type": "code"
      },
      "outputs": [],
      "execution_count": 6
    },
    {
      "cell_type": "markdown",
      "source": "To check whether the DataFrame was created successfully, we can simply type the variable name `cities`, display its content as an ouput:",
      "metadata": {
        "id": "IyYR9uk-YbV1",
        "cell_id": "d335b8d3fefa48c49557529fa00323c9",
        "colab_type": "text",
        "deepnote_cell_height": 74,
        "deepnote_app_coordinates": {
          "h": 3,
          "w": 12,
          "x": 0,
          "y": 115
        },
        "deepnote_cell_type": "markdown"
      }
    },
    {
      "cell_type": "code",
      "source": "cities",
      "metadata": {
        "id": "NU1zjGHAYcTk",
        "colab": {
          "height": 173,
          "base_uri": "https://localhost:8080/"
        },
        "cell_id": "e285115199e74bfa918f1e9eb3a12d3e",
        "outputId": "6a4c9434-023c-4f68-b6c5-6e383b914282",
        "colab_type": "code",
        "source_hash": "7c4e2f00",
        "executionInfo": {
          "user": {
            "userId": "05248840544598202773",
            "photoUrl": "https://lh3.googleusercontent.com/a-/AOh14GhqiajTdRS6NXELnqFzS3NNM3uxy6nUDGSMCjvAjw=s64",
            "displayName": "Marian Dörk"
          },
          "status": "ok",
          "elapsed": 1133,
          "user_tz": -120,
          "timestamp": 1598360699412
        },
        "execution_start": 1680816352694,
        "execution_millis": 8,
        "deepnote_app_coordinates": {
          "h": 14,
          "w": 12,
          "x": 0,
          "y": 119
        },
        "deepnote_to_be_reexecuted": false,
        "deepnote_cell_type": "code"
      },
      "outputs": [
        {
          "output_type": "execute_result",
          "execution_count": 7,
          "data": {
            "application/vnd.deepnote.dataframe.v3+json": {
              "column_count": 4,
              "row_count": 4,
              "columns": [
                {
                  "name": "name",
                  "dtype": "object",
                  "stats": {
                    "unique_count": 4,
                    "nan_count": 0,
                    "categories": [
                      {
                        "name": "Athens",
                        "count": 1
                      },
                      {
                        "name": "Bratislava",
                        "count": 1
                      },
                      {
                        "name": "2 others",
                        "count": 2
                      }
                    ]
                  }
                },
                {
                  "name": "area",
                  "dtype": "float64",
                  "stats": {
                    "unique_count": 4,
                    "nan_count": 0,
                    "min": "39.0",
                    "max": "367.6",
                    "histogram": [
                      {
                        "bin_start": 39,
                        "bin_end": 71.86,
                        "count": 1
                      },
                      {
                        "bin_start": 71.86,
                        "bin_end": 104.72,
                        "count": 1
                      },
                      {
                        "bin_start": 104.72,
                        "bin_end": 137.57999999999998,
                        "count": 1
                      },
                      {
                        "bin_start": 137.57999999999998,
                        "bin_end": 170.44,
                        "count": 0
                      },
                      {
                        "bin_start": 170.44,
                        "bin_end": 203.3,
                        "count": 0
                      },
                      {
                        "bin_start": 203.3,
                        "bin_end": 236.16,
                        "count": 0
                      },
                      {
                        "bin_start": 236.16,
                        "bin_end": 269.02,
                        "count": 0
                      },
                      {
                        "bin_start": 269.02,
                        "bin_end": 301.88,
                        "count": 0
                      },
                      {
                        "bin_start": 301.88,
                        "bin_end": 334.74,
                        "count": 0
                      },
                      {
                        "bin_start": 334.74,
                        "bin_end": 367.6,
                        "count": 1
                      }
                    ]
                  }
                },
                {
                  "name": "elevation",
                  "dtype": "int64",
                  "stats": {
                    "unique_count": 4,
                    "nan_count": 0,
                    "min": "14",
                    "max": "170",
                    "histogram": [
                      {
                        "bin_start": 14,
                        "bin_end": 29.6,
                        "count": 2
                      },
                      {
                        "bin_start": 29.6,
                        "bin_end": 45.2,
                        "count": 0
                      },
                      {
                        "bin_start": 45.2,
                        "bin_end": 60.8,
                        "count": 0
                      },
                      {
                        "bin_start": 60.8,
                        "bin_end": 76.4,
                        "count": 0
                      },
                      {
                        "bin_start": 76.4,
                        "bin_end": 92,
                        "count": 0
                      },
                      {
                        "bin_start": 92,
                        "bin_end": 107.6,
                        "count": 0
                      },
                      {
                        "bin_start": 107.6,
                        "bin_end": 123.2,
                        "count": 0
                      },
                      {
                        "bin_start": 123.2,
                        "bin_end": 138.8,
                        "count": 0
                      },
                      {
                        "bin_start": 138.8,
                        "bin_end": 154.4,
                        "count": 1
                      },
                      {
                        "bin_start": 154.4,
                        "bin_end": 170,
                        "count": 1
                      }
                    ]
                  }
                },
                {
                  "name": "population",
                  "dtype": "int64",
                  "stats": {
                    "unique_count": 4,
                    "nan_count": 0,
                    "min": "429564",
                    "max": "664046",
                    "histogram": [
                      {
                        "bin_start": 429564,
                        "bin_end": 453012.2,
                        "count": 1
                      },
                      {
                        "bin_start": 453012.2,
                        "bin_end": 476460.4,
                        "count": 0
                      },
                      {
                        "bin_start": 476460.4,
                        "bin_end": 499908.6,
                        "count": 0
                      },
                      {
                        "bin_start": 499908.6,
                        "bin_end": 523356.8,
                        "count": 0
                      },
                      {
                        "bin_start": 523356.8,
                        "bin_end": 546805,
                        "count": 0
                      },
                      {
                        "bin_start": 546805,
                        "bin_end": 570253.2,
                        "count": 1
                      },
                      {
                        "bin_start": 570253.2,
                        "bin_end": 593701.4,
                        "count": 0
                      },
                      {
                        "bin_start": 593701.4,
                        "bin_end": 617149.6,
                        "count": 1
                      },
                      {
                        "bin_start": 617149.6,
                        "bin_end": 640597.8,
                        "count": 0
                      },
                      {
                        "bin_start": 640597.8,
                        "bin_end": 664046,
                        "count": 1
                      }
                    ]
                  }
                },
                {
                  "name": "_deepnote_index_column",
                  "dtype": "int64"
                }
              ],
              "rows": [
                {
                  "name": "Athens",
                  "area": "39.0",
                  "elevation": "170",
                  "population": "664046",
                  "_deepnote_index_column": "0"
                },
                {
                  "name": "Bratislava",
                  "area": "367.6",
                  "elevation": "152",
                  "population": "429564",
                  "_deepnote_index_column": "1"
                },
                {
                  "name": "Copenhagen",
                  "area": "86.2",
                  "elevation": "14",
                  "population": "602481",
                  "_deepnote_index_column": "2"
                },
                {
                  "name": "Dublin",
                  "area": "115.0",
                  "elevation": "20",
                  "population": "553165",
                  "_deepnote_index_column": "3"
                }
              ]
            },
            "text/plain": "         name   area  elevation  population\n0      Athens   39.0        170      664046\n1  Bratislava  367.6        152      429564\n2  Copenhagen   86.2         14      602481\n3      Dublin  115.0         20      553165",
            "text/html": "<div>\n<style scoped>\n    .dataframe tbody tr th:only-of-type {\n        vertical-align: middle;\n    }\n\n    .dataframe tbody tr th {\n        vertical-align: top;\n    }\n\n    .dataframe thead th {\n        text-align: right;\n    }\n</style>\n<table border=\"1\" class=\"dataframe\">\n  <thead>\n    <tr style=\"text-align: right;\">\n      <th></th>\n      <th>name</th>\n      <th>area</th>\n      <th>elevation</th>\n      <th>population</th>\n    </tr>\n  </thead>\n  <tbody>\n    <tr>\n      <th>0</th>\n      <td>Athens</td>\n      <td>39.0</td>\n      <td>170</td>\n      <td>664046</td>\n    </tr>\n    <tr>\n      <th>1</th>\n      <td>Bratislava</td>\n      <td>367.6</td>\n      <td>152</td>\n      <td>429564</td>\n    </tr>\n    <tr>\n      <th>2</th>\n      <td>Copenhagen</td>\n      <td>86.2</td>\n      <td>14</td>\n      <td>602481</td>\n    </tr>\n    <tr>\n      <th>3</th>\n      <td>Dublin</td>\n      <td>115.0</td>\n      <td>20</td>\n      <td>553165</td>\n    </tr>\n  </tbody>\n</table>\n</div>"
          },
          "metadata": {}
        }
      ],
      "execution_count": 7
    },
    {
      "cell_type": "markdown",
      "source": "The output generated by a code cell is printed right below it. In the case of a DataFrame we get a table. By convention, the rows are the data entries and the columns are the data dimensions. The first column on the left side is the index.\n\nNow let's do something with our newly created DataFrame. For example, we could get the largest area using the max method.",
      "metadata": {
        "id": "cysxsu-3j3ms",
        "cell_id": "5041b52cdfac4f50835f4b65306cee6a",
        "colab_type": "text",
        "deepnote_cell_height": 154,
        "deepnote_app_coordinates": {
          "h": 6,
          "w": 12,
          "x": 0,
          "y": 134
        },
        "deepnote_cell_type": "markdown"
      }
    },
    {
      "cell_type": "code",
      "source": "cities[\"area\"].max()",
      "metadata": {
        "id": "KwgDbPOKVuEK",
        "colab": {
          "height": 34,
          "base_uri": "https://localhost:8080/"
        },
        "cell_id": "58719a70db8948978b36f659a73fb192",
        "outputId": "e1104602-c216-423b-a308-7aa5a0b2e844",
        "colab_type": "code",
        "source_hash": "b5991ac",
        "executionInfo": {
          "user": {
            "userId": "05248840544598202773",
            "photoUrl": "https://lh3.googleusercontent.com/a-/AOh14GhqiajTdRS6NXELnqFzS3NNM3uxy6nUDGSMCjvAjw=s64",
            "displayName": "Marian Dörk"
          },
          "status": "ok",
          "elapsed": 1123,
          "user_tz": -120,
          "timestamp": 1598360699413
        },
        "execution_start": 1680816352714,
        "execution_millis": 6,
        "deepnote_app_coordinates": {
          "h": 5,
          "w": 12,
          "x": 0,
          "y": 141
        },
        "deepnote_to_be_reexecuted": false,
        "deepnote_cell_type": "code"
      },
      "outputs": [
        {
          "output_type": "execute_result",
          "execution_count": 8,
          "data": {
            "text/plain": "367.6"
          },
          "metadata": {}
        }
      ],
      "execution_count": 8
    },
    {
      "cell_type": "markdown",
      "source": "✏️ *What would it take to get the highest elevation?*",
      "metadata": {
        "id": "cv_uzWGvBm4N",
        "cell_id": "0394f7bf6f0d485eb2950892189eccf1",
        "colab_type": "text",
        "deepnote_cell_height": 52,
        "deepnote_app_coordinates": {
          "h": 3,
          "w": 12,
          "x": 0,
          "y": 147
        },
        "deepnote_cell_type": "markdown"
      }
    },
    {
      "cell_type": "code",
      "source": "",
      "metadata": {
        "id": "2Co8p4WfBwKV",
        "colab": {},
        "cell_id": "5482c689e8f44e07b3203818ccbd4475",
        "colab_type": "code",
        "source_hash": "b623e53d",
        "execution_start": 1680816352795,
        "execution_millis": 8,
        "deepnote_app_coordinates": {
          "h": 3,
          "w": 12,
          "x": 0,
          "y": 151
        },
        "deepnote_to_be_reexecuted": false,
        "deepnote_cell_type": "code"
      },
      "outputs": [],
      "execution_count": 9
    },
    {
      "cell_type": "markdown",
      "source": "To get the entry belonging to the largest area, one needs to locate it via its index. `idxmax()` returns the index for the row with the maximum value in column `area` and with loc we can can retrieve the row via the index:",
      "metadata": {
        "id": "-FiavujLB14l",
        "cell_id": "e01109f81ef546b68399b467c3444978",
        "colab_type": "text",
        "deepnote_cell_height": 52,
        "deepnote_app_coordinates": {
          "h": 3,
          "w": 12,
          "x": 0,
          "y": 155
        },
        "deepnote_cell_type": "markdown"
      }
    },
    {
      "cell_type": "code",
      "source": "cities.loc[ cities['area'].idxmax() ]",
      "metadata": {
        "id": "k2jxlpQYA1v9",
        "colab": {
          "height": 102,
          "base_uri": "https://localhost:8080/"
        },
        "cell_id": "a1a246964f2d4e1187fd8764170c1fd7",
        "outputId": "1f5f9818-d4e3-4cce-8786-aee3c5d535bd",
        "colab_type": "code",
        "source_hash": "7885c46a",
        "executionInfo": {
          "user": {
            "userId": "05248840544598202773",
            "photoUrl": "https://lh3.googleusercontent.com/a-/AOh14GhqiajTdRS6NXELnqFzS3NNM3uxy6nUDGSMCjvAjw=s64",
            "displayName": "Marian Dörk"
          },
          "status": "ok",
          "elapsed": 1111,
          "user_tz": -120,
          "timestamp": 1598360699414
        },
        "execution_start": 1680816352790,
        "execution_millis": 11,
        "deepnote_app_coordinates": {
          "h": 8,
          "w": 12,
          "x": 0,
          "y": 159
        },
        "deepnote_to_be_reexecuted": false,
        "deepnote_cell_type": "code"
      },
      "outputs": [
        {
          "output_type": "execute_result",
          "execution_count": 9,
          "data": {
            "text/plain": "name          Bratislava\narea               367.6\nelevation            152\npopulation        429564\nName: 1, dtype: object"
          },
          "metadata": {}
        }
      ],
      "execution_count": 9
    },
    {
      "cell_type": "markdown",
      "source": "We can also calculate averages for each numeric column:",
      "metadata": {
        "id": "rsKefF68DXNs",
        "cell_id": "9fe889457c624f63974ec9f8989891e4",
        "colab_type": "text",
        "deepnote_cell_height": 52,
        "deepnote_app_coordinates": {
          "h": 3,
          "w": 12,
          "x": 0,
          "y": 168
        },
        "deepnote_cell_type": "markdown"
      }
    },
    {
      "cell_type": "code",
      "source": "cities.mean(numeric_only=True)",
      "metadata": {
        "id": "KEInp_PmVroj",
        "colab": {
          "height": 85,
          "base_uri": "https://localhost:8080/"
        },
        "cell_id": "540548f322b04f1c97673a4c8cc0a6a5",
        "outputId": "a35b6be0-da22-460d-8e4c-dd440ea49763",
        "colab_type": "code",
        "source_hash": "b9ca3891",
        "executionInfo": {
          "user": {
            "userId": "05248840544598202773",
            "photoUrl": "https://lh3.googleusercontent.com/a-/AOh14GhqiajTdRS6NXELnqFzS3NNM3uxy6nUDGSMCjvAjw=s64",
            "displayName": "Marian Dörk"
          },
          "status": "ok",
          "elapsed": 1102,
          "user_tz": -120,
          "timestamp": 1598360699415
        },
        "execution_start": 1680816352791,
        "execution_millis": 13,
        "deepnote_app_coordinates": {
          "h": 7,
          "w": 12,
          "x": 0,
          "y": 172
        },
        "deepnote_to_be_reexecuted": false,
        "deepnote_cell_type": "code"
      },
      "outputs": [
        {
          "output_type": "execute_result",
          "execution_count": 10,
          "data": {
            "text/plain": "area             151.95\nelevation         89.00\npopulation    562314.00\ndtype: float64"
          },
          "metadata": {}
        }
      ],
      "execution_count": 10
    },
    {
      "cell_type": "markdown",
      "source": "There is so much more to discover, some of which you will do over the course of the tutorials. The [DataFrame page](https://pandas.pydata.org/pandas-docs/stable/reference/api/pandas.DataFrame.html) in the pandas reference gives a complete (i.e., long) list of all methods provided by the data structure. \n\nIf you want to do something specific, but do not know the particular method name, a well formulated Google search query can help wonders. In particular, the discussions on Stack Overflow contain various helpful entries. Quite often it is the case that somebody else has had a similar problem that you're trying to solve. The key then is to precisely formulate your query. For this it is good to understand the basic terminology of Python, pandas, etc.",
      "metadata": {
        "id": "7-ouzVpYZkyD",
        "cell_id": "8aa1529f719049998e47119efa89e42b",
        "colab_type": "text",
        "deepnote_cell_height": 220,
        "deepnote_app_coordinates": {
          "h": 7,
          "w": 12,
          "x": 0,
          "y": 180
        },
        "deepnote_cell_type": "markdown"
      }
    },
    {
      "cell_type": "markdown",
      "source": "## 🌠 Let's reach to the stars \n\nAltair is the brightest star in the Aquila constellation and it is also the name of a versatile [visualization library](https://altair-viz.github.io/) specifically created for Python based on the popular Vega-Lite [visualization grammar](https://vega.github.io/vega/). \n\nWith 📊Altair we can create charts and visualizations in little time. \n\nIn order to put Altair to use, we first have to import it and give it a short name:\n",
      "metadata": {
        "id": "RKg7MCJyDpKY",
        "cell_id": "e1cc321ac69242c2b02435a1d1f01987",
        "colab_type": "text",
        "deepnote_cell_height": 224,
        "deepnote_app_coordinates": {
          "h": 8,
          "w": 12,
          "x": 0,
          "y": 188
        },
        "deepnote_cell_type": "markdown"
      }
    },
    {
      "cell_type": "code",
      "source": "import altair as alt",
      "metadata": {
        "id": "GKERU_uFKoi4",
        "colab": {},
        "cell_id": "f5485e829f014262ad1ecb60e0bd91cf",
        "colab_type": "code",
        "source_hash": "3df74024",
        "execution_start": 1680816352791,
        "execution_millis": 234,
        "deepnote_app_coordinates": {
          "h": 3,
          "w": 12,
          "x": 0,
          "y": 197
        },
        "deepnote_to_be_reexecuted": false,
        "deepnote_cell_type": "code"
      },
      "outputs": [],
      "execution_count": 11
    },
    {
      "cell_type": "markdown",
      "source": "If you were to run this notebook from a local Jupyter installation, you might not have the library installed. To install it you would either use Python's package manager `pip` or use Anaconda's package management tool `conda`. There is a convention to list all packages in a `requirements.txt` file. On Deepnote they are automatically installed. Depending on your environment you could enter this line: `!pip install -r requirements.txt` in a code block and all packages needed for the tutorials are installed in one go. Alternatively, you can also run pip from the command line (then without the preceeding the exclamation mark).\n\nNow let's make a bar chart representing the `area` in the cities dataset—in one line!",
      "metadata": {
        "id": "k4AIhDFEKyRR",
        "cell_id": "299e5d9d33a140b7a01182ddc9c62bce",
        "colab_type": "text",
        "deepnote_cell_height": 354,
        "deepnote_app_coordinates": {
          "h": 7,
          "w": 12,
          "x": 0,
          "y": 201
        },
        "deepnote_cell_type": "markdown"
      }
    },
    {
      "cell_type": "code",
      "source": "alt.Chart(cities).mark_bar().encode(x='name', y='area')",
      "metadata": {
        "id": "5Rf-nuRi1oyC",
        "colab": {
          "height": 416,
          "base_uri": "https://localhost:8080/"
        },
        "cell_id": "216e10c4845e4fffa375777be07b3835",
        "outputId": "a8039def-b166-4a98-d0f0-15c1b0326bc2",
        "colab_type": "code",
        "source_hash": "dc1b1fa8",
        "executionInfo": {
          "user": {
            "userId": "05248840544598202773",
            "photoUrl": "https://lh3.googleusercontent.com/a-/AOh14GhqiajTdRS6NXELnqFzS3NNM3uxy6nUDGSMCjvAjw=s64",
            "displayName": "Marian Dörk"
          },
          "status": "ok",
          "elapsed": 1581,
          "user_tz": -120,
          "timestamp": 1598360699907
        },
        "owner_user_id": "18cdf961-8568-46e7-8dbf-70b79852da5b",
        "execution_start": 1680816353027,
        "execution_millis": 21,
        "deepnote_app_coordinates": {
          "h": 20,
          "w": 12,
          "x": 0,
          "y": 209
        },
        "deepnote_to_be_reexecuted": false,
        "deepnote_cell_type": "code"
      },
      "outputs": [
        {
          "output_type": "execute_result",
          "execution_count": 12,
          "data": {
            "text/html": "\n<div id=\"altair-viz-5b3aabdac91e4a5fb1e86c146863b83a\"></div>\n<script type=\"text/javascript\">\n  var VEGA_DEBUG = (typeof VEGA_DEBUG == \"undefined\") ? {} : VEGA_DEBUG;\n  (function(spec, embedOpt){\n    let outputDiv = document.currentScript.previousElementSibling;\n    if (outputDiv.id !== \"altair-viz-5b3aabdac91e4a5fb1e86c146863b83a\") {\n      outputDiv = document.getElementById(\"altair-viz-5b3aabdac91e4a5fb1e86c146863b83a\");\n    }\n    const paths = {\n      \"vega\": \"https://cdn.jsdelivr.net/npm/vega@5?noext\",\n      \"vega-lib\": \"https://cdn.jsdelivr.net/npm/vega-lib?noext\",\n      \"vega-lite\": \"https://cdn.jsdelivr.net/npm/vega-lite@5.6.1?noext\",\n      \"vega-embed\": \"https://cdn.jsdelivr.net/npm/vega-embed@6?noext\",\n    };\n\n    function maybeLoadScript(lib, version) {\n      var key = `${lib.replace(\"-\", \"\")}_version`;\n      return (VEGA_DEBUG[key] == version) ?\n        Promise.resolve(paths[lib]) :\n        new Promise(function(resolve, reject) {\n          var s = document.createElement('script');\n          document.getElementsByTagName(\"head\")[0].appendChild(s);\n          s.async = true;\n          s.onload = () => {\n            VEGA_DEBUG[key] = version;\n            return resolve(paths[lib]);\n          };\n          s.onerror = () => reject(`Error loading script: ${paths[lib]}`);\n          s.src = paths[lib];\n        });\n    }\n\n    function showError(err) {\n      outputDiv.innerHTML = `<div class=\"error\" style=\"color:red;\">${err}</div>`;\n      throw err;\n    }\n\n    function displayChart(vegaEmbed) {\n      vegaEmbed(outputDiv, spec, embedOpt)\n        .catch(err => showError(`Javascript Error: ${err.message}<br>This usually means there's a typo in your chart specification. See the javascript console for the full traceback.`));\n    }\n\n    if(typeof define === \"function\" && define.amd) {\n      requirejs.config({paths});\n      require([\"vega-embed\"], displayChart, err => showError(`Error loading script: ${err.message}`));\n    } else {\n      maybeLoadScript(\"vega\", \"5\")\n        .then(() => maybeLoadScript(\"vega-lite\", \"5.6.1\"))\n        .then(() => maybeLoadScript(\"vega-embed\", \"6\"))\n        .catch(showError)\n        .then(() => displayChart(vegaEmbed));\n    }\n  })({\"config\": {\"view\": {\"continuousWidth\": 300, \"continuousHeight\": 300}}, \"data\": {\"name\": \"data-dd54ba61bbc986a72de58a97b28ef3f8\"}, \"mark\": {\"type\": \"bar\"}, \"encoding\": {\"x\": {\"field\": \"name\", \"type\": \"nominal\"}, \"y\": {\"field\": \"area\", \"type\": \"quantitative\"}}, \"$schema\": \"https://vega.github.io/schema/vega-lite/v5.6.1.json\", \"datasets\": {\"data-dd54ba61bbc986a72de58a97b28ef3f8\": [{\"name\": \"Athens\", \"area\": 39.0, \"elevation\": 170, \"population\": 664046}, {\"name\": \"Bratislava\", \"area\": 367.6, \"elevation\": 152, \"population\": 429564}, {\"name\": \"Copenhagen\", \"area\": 86.2, \"elevation\": 14, \"population\": 602481}, {\"name\": \"Dublin\", \"area\": 115.0, \"elevation\": 20, \"population\": 553165}]}}, {\"mode\": \"vega-lite\"});\n</script>",
            "text/plain": "alt.Chart(...)"
          },
          "metadata": {}
        }
      ],
      "execution_count": 12
    },
    {
      "cell_type": "markdown",
      "source": "✏️ *Change above chart into a horizontal bar chart of populations:* ",
      "metadata": {
        "id": "esZqfT7CCsz2",
        "cell_id": "4a032275897348258d6898bc49a394b2",
        "colab_type": "text",
        "deepnote_cell_height": 52,
        "deepnote_app_coordinates": {
          "h": 3,
          "w": 12,
          "x": 0,
          "y": 230
        },
        "deepnote_cell_type": "markdown"
      }
    },
    {
      "cell_type": "code",
      "source": "",
      "metadata": {
        "id": "Kr-2sFJtC81k",
        "colab": {},
        "cell_id": "b04832e26ebe42e7b163c012154bc5bc",
        "colab_type": "code",
        "source_hash": "b623e53d",
        "execution_start": 1680816353095,
        "execution_millis": 1,
        "deepnote_app_coordinates": {
          "h": 3,
          "w": 12,
          "x": 0,
          "y": 234
        },
        "deepnote_to_be_reexecuted": false,
        "deepnote_cell_type": "code"
      },
      "outputs": [],
      "execution_count": 12
    },
    {
      "cell_type": "markdown",
      "source": "With a few more specifications, we can give this barchart some tooltips and an aspect ratio of a square:",
      "metadata": {
        "id": "gdaXDekQf5fS",
        "cell_id": "3b4736fa950b4ef0b47c9ff7f2736e4f",
        "colab_type": "text",
        "deepnote_cell_height": 74,
        "deepnote_app_coordinates": {
          "h": 3,
          "w": 12,
          "x": 0,
          "y": 238
        },
        "deepnote_cell_type": "markdown"
      }
    },
    {
      "cell_type": "code",
      "source": "alt.Chart(cities).mark_bar().encode(\n  x='name',\n  y='area',\n  tooltip=['name', 'area', 'elevation', 'population'],\n).properties(\n  width=200,\n  height=200\n)",
      "metadata": {
        "id": "9jh8ldKpgHk-",
        "colab": {
          "height": 316,
          "base_uri": "https://localhost:8080/"
        },
        "cell_id": "154cef6754f54b53a4f4cbdc65f3eab6",
        "outputId": "12616465-702a-484b-fdb3-ed7c69e9daaa",
        "colab_type": "code",
        "source_hash": "355af283",
        "executionInfo": {
          "user": {
            "userId": "05248840544598202773",
            "photoUrl": "https://lh3.googleusercontent.com/a-/AOh14GhqiajTdRS6NXELnqFzS3NNM3uxy6nUDGSMCjvAjw=s64",
            "displayName": "Marian Dörk"
          },
          "status": "ok",
          "elapsed": 1569,
          "user_tz": -120,
          "timestamp": 1598360699909
        },
        "execution_start": 1680816353095,
        "execution_millis": 47,
        "deepnote_app_coordinates": {
          "h": 21,
          "w": 12,
          "x": 0,
          "y": 242
        },
        "deepnote_to_be_reexecuted": false,
        "deepnote_cell_type": "code"
      },
      "outputs": [
        {
          "output_type": "execute_result",
          "execution_count": 13,
          "data": {
            "text/html": "\n<div id=\"altair-viz-159eaabc919c4e85acece68420b870b5\"></div>\n<script type=\"text/javascript\">\n  var VEGA_DEBUG = (typeof VEGA_DEBUG == \"undefined\") ? {} : VEGA_DEBUG;\n  (function(spec, embedOpt){\n    let outputDiv = document.currentScript.previousElementSibling;\n    if (outputDiv.id !== \"altair-viz-159eaabc919c4e85acece68420b870b5\") {\n      outputDiv = document.getElementById(\"altair-viz-159eaabc919c4e85acece68420b870b5\");\n    }\n    const paths = {\n      \"vega\": \"https://cdn.jsdelivr.net/npm/vega@5?noext\",\n      \"vega-lib\": \"https://cdn.jsdelivr.net/npm/vega-lib?noext\",\n      \"vega-lite\": \"https://cdn.jsdelivr.net/npm/vega-lite@5.6.1?noext\",\n      \"vega-embed\": \"https://cdn.jsdelivr.net/npm/vega-embed@6?noext\",\n    };\n\n    function maybeLoadScript(lib, version) {\n      var key = `${lib.replace(\"-\", \"\")}_version`;\n      return (VEGA_DEBUG[key] == version) ?\n        Promise.resolve(paths[lib]) :\n        new Promise(function(resolve, reject) {\n          var s = document.createElement('script');\n          document.getElementsByTagName(\"head\")[0].appendChild(s);\n          s.async = true;\n          s.onload = () => {\n            VEGA_DEBUG[key] = version;\n            return resolve(paths[lib]);\n          };\n          s.onerror = () => reject(`Error loading script: ${paths[lib]}`);\n          s.src = paths[lib];\n        });\n    }\n\n    function showError(err) {\n      outputDiv.innerHTML = `<div class=\"error\" style=\"color:red;\">${err}</div>`;\n      throw err;\n    }\n\n    function displayChart(vegaEmbed) {\n      vegaEmbed(outputDiv, spec, embedOpt)\n        .catch(err => showError(`Javascript Error: ${err.message}<br>This usually means there's a typo in your chart specification. See the javascript console for the full traceback.`));\n    }\n\n    if(typeof define === \"function\" && define.amd) {\n      requirejs.config({paths});\n      require([\"vega-embed\"], displayChart, err => showError(`Error loading script: ${err.message}`));\n    } else {\n      maybeLoadScript(\"vega\", \"5\")\n        .then(() => maybeLoadScript(\"vega-lite\", \"5.6.1\"))\n        .then(() => maybeLoadScript(\"vega-embed\", \"6\"))\n        .catch(showError)\n        .then(() => displayChart(vegaEmbed));\n    }\n  })({\"config\": {\"view\": {\"continuousWidth\": 300, \"continuousHeight\": 300}}, \"data\": {\"name\": \"data-dd54ba61bbc986a72de58a97b28ef3f8\"}, \"mark\": {\"type\": \"bar\"}, \"encoding\": {\"tooltip\": [{\"field\": \"name\", \"type\": \"nominal\"}, {\"field\": \"area\", \"type\": \"quantitative\"}, {\"field\": \"elevation\", \"type\": \"quantitative\"}, {\"field\": \"population\", \"type\": \"quantitative\"}], \"x\": {\"field\": \"name\", \"type\": \"nominal\"}, \"y\": {\"field\": \"area\", \"type\": \"quantitative\"}}, \"height\": 200, \"width\": 200, \"$schema\": \"https://vega.github.io/schema/vega-lite/v5.6.1.json\", \"datasets\": {\"data-dd54ba61bbc986a72de58a97b28ef3f8\": [{\"name\": \"Athens\", \"area\": 39.0, \"elevation\": 170, \"population\": 664046}, {\"name\": \"Bratislava\", \"area\": 367.6, \"elevation\": 152, \"population\": 429564}, {\"name\": \"Copenhagen\", \"area\": 86.2, \"elevation\": 14, \"population\": 602481}, {\"name\": \"Dublin\", \"area\": 115.0, \"elevation\": 20, \"population\": 553165}]}}, {\"mode\": \"vega-lite\"});\n</script>",
            "text/plain": "alt.Chart(...)"
          },
          "metadata": {}
        }
      ],
      "execution_count": 13
    },
    {
      "cell_type": "markdown",
      "source": "This is admittedly still a very simple chart, but it gets the job done and might make you wonder why Athens is actually so small (it turns out that this number refers to the municipality and not the metropolitan area of Athens… Anyways).\n\nAltair can be used to create a wide range of static and interactive visualizations—have a look at their [gallery](https://altair-viz.github.io/gallery/index.html) for some inspiration!\n\nAs a last step in this tutorial, we load some countries data from the geographical database Geonames and create an interactive scatterplot of the area sizes and populations of all the capital cities. I included some comments (note the # and the green color) to explain what is going on:",
      "metadata": {
        "id": "OQ-vH5EFGZTI",
        "cell_id": "972b1e57900747bd817f0da80a22ce16",
        "colab_type": "text",
        "deepnote_cell_height": 256,
        "deepnote_app_coordinates": {
          "h": 9,
          "w": 12,
          "x": 0,
          "y": 264
        },
        "deepnote_cell_type": "markdown"
      }
    },
    {
      "cell_type": "code",
      "source": "# we load the dataset from Geonames using a URL, a web address\ncountries = pd.read_csv(\"http://www.geonames.org/countryInfoCSV\", sep='\\t', keep_default_na=False)\n# we pass two further parameters: first we specify that the file is tab-separated,\n# and then we ask it not to translate NA into 'not a number' as it refers to North America\n\n# let's take a look at the first rows in the dataset:\ncountries.head()",
      "metadata": {
        "id": "LSs5SjFg3DrP",
        "colab": {
          "height": 343,
          "base_uri": "https://localhost:8080/"
        },
        "cell_id": "3f9fac8c993a45d7a60f223df1afa978",
        "outputId": "d8a86427-0712-4f45-cb3e-b1dd9f99f3cb",
        "colab_type": "code",
        "source_hash": "5b4dac1c",
        "executionInfo": {
          "user": {
            "userId": "05248840544598202773",
            "photoUrl": "https://lh3.googleusercontent.com/a-/AOh14GhqiajTdRS6NXELnqFzS3NNM3uxy6nUDGSMCjvAjw=s64",
            "displayName": "Marian Dörk"
          },
          "status": "ok",
          "elapsed": 1298,
          "user_tz": -120,
          "timestamp": 1598360710612
        },
        "execution_start": 1680816353140,
        "execution_millis": 364,
        "deepnote_app_coordinates": {
          "h": 20,
          "w": 12,
          "x": 0,
          "y": 274
        },
        "deepnote_to_be_reexecuted": false,
        "deepnote_cell_type": "code"
      },
      "outputs": [
        {
          "output_type": "execute_result",
          "execution_count": 14,
          "data": {
            "application/vnd.deepnote.dataframe.v3+json": {
              "column_count": 12,
              "row_count": 5,
              "columns": [
                {
                  "name": "iso alpha2",
                  "dtype": "object",
                  "stats": {
                    "unique_count": 5,
                    "nan_count": 0,
                    "categories": [
                      {
                        "name": "AD",
                        "count": 1
                      },
                      {
                        "name": "AE",
                        "count": 1
                      },
                      {
                        "name": "3 others",
                        "count": 3
                      }
                    ]
                  }
                },
                {
                  "name": "iso alpha3",
                  "dtype": "object",
                  "stats": {
                    "unique_count": 5,
                    "nan_count": 0,
                    "categories": [
                      {
                        "name": "AND",
                        "count": 1
                      },
                      {
                        "name": "ARE",
                        "count": 1
                      },
                      {
                        "name": "3 others",
                        "count": 3
                      }
                    ]
                  }
                },
                {
                  "name": "iso numeric",
                  "dtype": "int64",
                  "stats": {
                    "unique_count": 5,
                    "nan_count": 0,
                    "min": "4",
                    "max": "784",
                    "histogram": [
                      {
                        "bin_start": 4,
                        "bin_end": 82,
                        "count": 3
                      },
                      {
                        "bin_start": 82,
                        "bin_end": 160,
                        "count": 0
                      },
                      {
                        "bin_start": 160,
                        "bin_end": 238,
                        "count": 0
                      },
                      {
                        "bin_start": 238,
                        "bin_end": 316,
                        "count": 0
                      },
                      {
                        "bin_start": 316,
                        "bin_end": 394,
                        "count": 0
                      },
                      {
                        "bin_start": 394,
                        "bin_end": 472,
                        "count": 0
                      },
                      {
                        "bin_start": 472,
                        "bin_end": 550,
                        "count": 0
                      },
                      {
                        "bin_start": 550,
                        "bin_end": 628,
                        "count": 0
                      },
                      {
                        "bin_start": 628,
                        "bin_end": 706,
                        "count": 1
                      },
                      {
                        "bin_start": 706,
                        "bin_end": 784,
                        "count": 1
                      }
                    ]
                  }
                },
                {
                  "name": "fips code",
                  "dtype": "object",
                  "stats": {
                    "unique_count": 5,
                    "nan_count": 0,
                    "categories": [
                      {
                        "name": "AN",
                        "count": 1
                      },
                      {
                        "name": "AE",
                        "count": 1
                      },
                      {
                        "name": "3 others",
                        "count": 3
                      }
                    ]
                  }
                },
                {
                  "name": "name",
                  "dtype": "object",
                  "stats": {
                    "unique_count": 5,
                    "nan_count": 0,
                    "categories": [
                      {
                        "name": "Andorra",
                        "count": 1
                      },
                      {
                        "name": "United Arab Emirates",
                        "count": 1
                      },
                      {
                        "name": "3 others",
                        "count": 3
                      }
                    ]
                  }
                },
                {
                  "name": "capital",
                  "dtype": "object",
                  "stats": {
                    "unique_count": 5,
                    "nan_count": 0,
                    "categories": [
                      {
                        "name": "Andorra la Vella",
                        "count": 1
                      },
                      {
                        "name": "Abu Dhabi",
                        "count": 1
                      },
                      {
                        "name": "3 others",
                        "count": 3
                      }
                    ]
                  }
                },
                {
                  "name": "areaInSqKm",
                  "dtype": "float64",
                  "stats": {
                    "unique_count": 5,
                    "nan_count": 0,
                    "min": "102.0",
                    "max": "647500.0",
                    "histogram": [
                      {
                        "bin_start": 102,
                        "bin_end": 64841.8,
                        "count": 3
                      },
                      {
                        "bin_start": 64841.8,
                        "bin_end": 129581.6,
                        "count": 1
                      },
                      {
                        "bin_start": 129581.6,
                        "bin_end": 194321.40000000002,
                        "count": 0
                      },
                      {
                        "bin_start": 194321.40000000002,
                        "bin_end": 259061.2,
                        "count": 0
                      },
                      {
                        "bin_start": 259061.2,
                        "bin_end": 323801,
                        "count": 0
                      },
                      {
                        "bin_start": 323801,
                        "bin_end": 388540.80000000005,
                        "count": 0
                      },
                      {
                        "bin_start": 388540.80000000005,
                        "bin_end": 453280.60000000003,
                        "count": 0
                      },
                      {
                        "bin_start": 453280.60000000003,
                        "bin_end": 518020.4,
                        "count": 0
                      },
                      {
                        "bin_start": 518020.4,
                        "bin_end": 582760.2000000001,
                        "count": 0
                      },
                      {
                        "bin_start": 582760.2000000001,
                        "bin_end": 647500,
                        "count": 1
                      }
                    ]
                  }
                },
                {
                  "name": "population",
                  "dtype": "int64",
                  "stats": {
                    "unique_count": 5,
                    "nan_count": 0,
                    "min": "13254",
                    "max": "37172386",
                    "histogram": [
                      {
                        "bin_start": 13254,
                        "bin_end": 3729167.2,
                        "count": 3
                      },
                      {
                        "bin_start": 3729167.2,
                        "bin_end": 7445080.4,
                        "count": 0
                      },
                      {
                        "bin_start": 7445080.4,
                        "bin_end": 11160993.600000001,
                        "count": 1
                      },
                      {
                        "bin_start": 11160993.600000001,
                        "bin_end": 14876906.8,
                        "count": 0
                      },
                      {
                        "bin_start": 14876906.8,
                        "bin_end": 18592820,
                        "count": 0
                      },
                      {
                        "bin_start": 18592820,
                        "bin_end": 22308733.200000003,
                        "count": 0
                      },
                      {
                        "bin_start": 22308733.200000003,
                        "bin_end": 26024646.400000002,
                        "count": 0
                      },
                      {
                        "bin_start": 26024646.400000002,
                        "bin_end": 29740559.6,
                        "count": 0
                      },
                      {
                        "bin_start": 29740559.6,
                        "bin_end": 33456472.8,
                        "count": 0
                      },
                      {
                        "bin_start": 33456472.8,
                        "bin_end": 37172386,
                        "count": 1
                      }
                    ]
                  }
                },
                {
                  "name": "continent",
                  "dtype": "object",
                  "stats": {
                    "unique_count": 3,
                    "nan_count": 0,
                    "categories": [
                      {
                        "name": "AS",
                        "count": 2
                      },
                      {
                        "name": "NA",
                        "count": 2
                      },
                      {
                        "name": "EU",
                        "count": 1
                      }
                    ]
                  }
                },
                {
                  "name": "languages",
                  "dtype": "object",
                  "stats": {
                    "unique_count": 5,
                    "nan_count": 0,
                    "categories": [
                      {
                        "name": "ca",
                        "count": 1
                      },
                      {
                        "name": "ar-AE,fa,en,hi,ur",
                        "count": 1
                      },
                      {
                        "name": "3 others",
                        "count": 3
                      }
                    ]
                  }
                },
                {
                  "name": "currency",
                  "dtype": "object",
                  "stats": {
                    "unique_count": 4,
                    "nan_count": 0,
                    "categories": [
                      {
                        "name": "XCD",
                        "count": 2
                      },
                      {
                        "name": "EUR",
                        "count": 1
                      },
                      {
                        "name": "2 others",
                        "count": 2
                      }
                    ]
                  }
                },
                {
                  "name": "geonameId",
                  "dtype": "int64",
                  "stats": {
                    "unique_count": 5,
                    "nan_count": 0,
                    "min": "290557",
                    "max": "3576396",
                    "histogram": [
                      {
                        "bin_start": 290557,
                        "bin_end": 619140.9,
                        "count": 1
                      },
                      {
                        "bin_start": 619140.9,
                        "bin_end": 947724.8,
                        "count": 0
                      },
                      {
                        "bin_start": 947724.8,
                        "bin_end": 1276308.7000000002,
                        "count": 1
                      },
                      {
                        "bin_start": 1276308.7000000002,
                        "bin_end": 1604892.6,
                        "count": 0
                      },
                      {
                        "bin_start": 1604892.6,
                        "bin_end": 1933476.5,
                        "count": 0
                      },
                      {
                        "bin_start": 1933476.5,
                        "bin_end": 2262060.4000000004,
                        "count": 0
                      },
                      {
                        "bin_start": 2262060.4000000004,
                        "bin_end": 2590644.3000000003,
                        "count": 0
                      },
                      {
                        "bin_start": 2590644.3000000003,
                        "bin_end": 2919228.2,
                        "count": 0
                      },
                      {
                        "bin_start": 2919228.2,
                        "bin_end": 3247812.1,
                        "count": 1
                      },
                      {
                        "bin_start": 3247812.1,
                        "bin_end": 3576396,
                        "count": 2
                      }
                    ]
                  }
                },
                {
                  "name": "_deepnote_index_column",
                  "dtype": "int64"
                }
              ],
              "rows": [
                {
                  "iso alpha2": "AD",
                  "iso alpha3": "AND",
                  "iso numeric": "20",
                  "fips code": "AN",
                  "name": "Andorra",
                  "capital": "Andorra la Vella",
                  "areaInSqKm": "468.0",
                  "population": "77006",
                  "continent": "EU",
                  "languages": "ca",
                  "currency": "EUR",
                  "geonameId": "3041565",
                  "_deepnote_index_column": "0"
                },
                {
                  "iso alpha2": "AE",
                  "iso alpha3": "ARE",
                  "iso numeric": "784",
                  "fips code": "AE",
                  "name": "United Arab Emirates",
                  "capital": "Abu Dhabi",
                  "areaInSqKm": "82880.0",
                  "population": "9630959",
                  "continent": "AS",
                  "languages": "ar-AE,fa,en,hi,ur",
                  "currency": "AED",
                  "geonameId": "290557",
                  "_deepnote_index_column": "1"
                },
                {
                  "iso alpha2": "AF",
                  "iso alpha3": "AFG",
                  "iso numeric": "4",
                  "fips code": "AF",
                  "name": "Afghanistan",
                  "capital": "Kabul",
                  "areaInSqKm": "647500.0",
                  "population": "37172386",
                  "continent": "AS",
                  "languages": "fa-AF,ps,uz-AF,tk",
                  "currency": "AFN",
                  "geonameId": "1149361",
                  "_deepnote_index_column": "2"
                },
                {
                  "iso alpha2": "AG",
                  "iso alpha3": "ATG",
                  "iso numeric": "28",
                  "fips code": "AC",
                  "name": "Antigua and Barbuda",
                  "capital": "St John's",
                  "areaInSqKm": "443.0",
                  "population": "96286",
                  "continent": "NA",
                  "languages": "en-AG",
                  "currency": "XCD",
                  "geonameId": "3576396",
                  "_deepnote_index_column": "3"
                },
                {
                  "iso alpha2": "AI",
                  "iso alpha3": "AIA",
                  "iso numeric": "660",
                  "fips code": "AV",
                  "name": "Anguilla",
                  "capital": "The Valley",
                  "areaInSqKm": "102.0",
                  "population": "13254",
                  "continent": "NA",
                  "languages": "en-AI",
                  "currency": "XCD",
                  "geonameId": "3573511",
                  "_deepnote_index_column": "4"
                }
              ]
            },
            "text/plain": "  iso alpha2 iso alpha3  iso numeric fips code                  name  \\\n0         AD        AND           20        AN               Andorra   \n1         AE        ARE          784        AE  United Arab Emirates   \n2         AF        AFG            4        AF           Afghanistan   \n3         AG        ATG           28        AC   Antigua and Barbuda   \n4         AI        AIA          660        AV              Anguilla   \n\n            capital  areaInSqKm  population continent          languages  \\\n0  Andorra la Vella       468.0       77006        EU                 ca   \n1         Abu Dhabi     82880.0     9630959        AS  ar-AE,fa,en,hi,ur   \n2             Kabul    647500.0    37172386        AS  fa-AF,ps,uz-AF,tk   \n3         St John's       443.0       96286        NA              en-AG   \n4        The Valley       102.0       13254        NA              en-AI   \n\n  currency  geonameId  \n0      EUR    3041565  \n1      AED     290557  \n2      AFN    1149361  \n3      XCD    3576396  \n4      XCD    3573511  ",
            "text/html": "<div>\n<style scoped>\n    .dataframe tbody tr th:only-of-type {\n        vertical-align: middle;\n    }\n\n    .dataframe tbody tr th {\n        vertical-align: top;\n    }\n\n    .dataframe thead th {\n        text-align: right;\n    }\n</style>\n<table border=\"1\" class=\"dataframe\">\n  <thead>\n    <tr style=\"text-align: right;\">\n      <th></th>\n      <th>iso alpha2</th>\n      <th>iso alpha3</th>\n      <th>iso numeric</th>\n      <th>fips code</th>\n      <th>name</th>\n      <th>capital</th>\n      <th>areaInSqKm</th>\n      <th>population</th>\n      <th>continent</th>\n      <th>languages</th>\n      <th>currency</th>\n      <th>geonameId</th>\n    </tr>\n  </thead>\n  <tbody>\n    <tr>\n      <th>0</th>\n      <td>AD</td>\n      <td>AND</td>\n      <td>20</td>\n      <td>AN</td>\n      <td>Andorra</td>\n      <td>Andorra la Vella</td>\n      <td>468.0</td>\n      <td>77006</td>\n      <td>EU</td>\n      <td>ca</td>\n      <td>EUR</td>\n      <td>3041565</td>\n    </tr>\n    <tr>\n      <th>1</th>\n      <td>AE</td>\n      <td>ARE</td>\n      <td>784</td>\n      <td>AE</td>\n      <td>United Arab Emirates</td>\n      <td>Abu Dhabi</td>\n      <td>82880.0</td>\n      <td>9630959</td>\n      <td>AS</td>\n      <td>ar-AE,fa,en,hi,ur</td>\n      <td>AED</td>\n      <td>290557</td>\n    </tr>\n    <tr>\n      <th>2</th>\n      <td>AF</td>\n      <td>AFG</td>\n      <td>4</td>\n      <td>AF</td>\n      <td>Afghanistan</td>\n      <td>Kabul</td>\n      <td>647500.0</td>\n      <td>37172386</td>\n      <td>AS</td>\n      <td>fa-AF,ps,uz-AF,tk</td>\n      <td>AFN</td>\n      <td>1149361</td>\n    </tr>\n    <tr>\n      <th>3</th>\n      <td>AG</td>\n      <td>ATG</td>\n      <td>28</td>\n      <td>AC</td>\n      <td>Antigua and Barbuda</td>\n      <td>St John's</td>\n      <td>443.0</td>\n      <td>96286</td>\n      <td>NA</td>\n      <td>en-AG</td>\n      <td>XCD</td>\n      <td>3576396</td>\n    </tr>\n    <tr>\n      <th>4</th>\n      <td>AI</td>\n      <td>AIA</td>\n      <td>660</td>\n      <td>AV</td>\n      <td>Anguilla</td>\n      <td>The Valley</td>\n      <td>102.0</td>\n      <td>13254</td>\n      <td>NA</td>\n      <td>en-AI</td>\n      <td>XCD</td>\n      <td>3573511</td>\n    </tr>\n  </tbody>\n</table>\n</div>"
          },
          "metadata": {}
        }
      ],
      "execution_count": 14
    },
    {
      "cell_type": "markdown",
      "source": "Note that the values in the column `continent` are abbreviated. To make them meaningful we replace them with their full names:",
      "metadata": {
        "id": "kjWvIqxw3DrS",
        "cell_id": "7e0ebe3efb38428bafe6f7671342a7d3",
        "colab_type": "text",
        "deepnote_cell_height": 74,
        "deepnote_app_coordinates": {
          "h": 3,
          "w": 12,
          "x": 0,
          "y": 295
        },
        "deepnote_cell_type": "markdown"
      }
    },
    {
      "cell_type": "code",
      "source": "# string replace in continent column with a dictionary of find-replace pairs:\ncountries = countries.replace( { \"continent\": {\n  \"AF\": \"Africa\",\n  \"AN\": \"Antarctica\",\n  \"AS\": \"Asia\",\n  \"EU\": \"Europe\",\n  \"OC\": \"Oceania\",\n  \"NA\": \"North America\",\n  \"SA\": \"South America\"\n}})",
      "metadata": {
        "id": "4M_eMYeSbeBw",
        "colab": {},
        "cell_id": "d628d23e047a41e9800c0063b102e2f5",
        "colab_type": "code",
        "source_hash": "149298ee",
        "execution_start": 1680816353553,
        "execution_millis": 5,
        "deepnote_app_coordinates": {
          "h": 9,
          "w": 12,
          "x": 0,
          "y": 299
        },
        "deepnote_to_be_reexecuted": false,
        "deepnote_cell_type": "code"
      },
      "outputs": [],
      "execution_count": 15
    },
    {
      "cell_type": "markdown",
      "source": "Now the data is ready to be visualized. Note: We will spend considerable time in the coming tutorials to get data into shape, so that we can start visualizing them. This is an important and often laborious step in any visualization project, which is why we also spend a bit of time on it here.\n\nBecause there are many countries with small populations, and few very large ones, we use [logarithmic scales](https://en.wikipedia.org/wiki/Logarithmic_scale) on both axes by adding `scale(type='log')`. And because logarithmic scales cannot contain zero values, we skip the territories with a population of 0 (such as Antarctica). ",
      "metadata": {
        "id": "8YA4e3iQ3DrU",
        "cell_id": "1ba3da6fc7e24f49989b88a54ab830b0",
        "colab_type": "text",
        "deepnote_cell_height": 176,
        "deepnote_app_coordinates": {
          "h": 3,
          "w": 12,
          "x": 0,
          "y": 309
        },
        "deepnote_cell_type": "markdown"
      }
    },
    {
      "cell_type": "code",
      "source": "alt.Chart(countries).transform_filter(alt.datum.population>0).mark_circle().encode(\n  alt.X('areaInSqKm').scale(type='log'),\n  alt.Y('population').scale(type='log'),\n  color='continent',\n  tooltip = [\"name\", \"capital\", \"areaInSqKm\", \"population\", \"continent\"]\n).interactive().properties(\n  width=600,\n  height=400\n)",
      "metadata": {
        "id": "PUJ4IGjY3DrU",
        "colab": {
          "height": 468,
          "base_uri": "https://localhost:8080/"
        },
        "cell_id": "3ba7e4532028488b90a57703cdafe9ba",
        "outputId": "1a1b07d0-6ee6-4290-ddb8-6e255dbd1ce4",
        "colab_type": "code",
        "source_hash": "50acf72c",
        "executionInfo": {
          "user": {
            "userId": "05248840544598202773",
            "photoUrl": "https://lh3.googleusercontent.com/a-/AOh14GhqiajTdRS6NXELnqFzS3NNM3uxy6nUDGSMCjvAjw=s64",
            "displayName": "Marian Dörk"
          },
          "status": "ok",
          "elapsed": 2420,
          "user_tz": -120,
          "timestamp": 1598360700780
        },
        "owner_user_id": "91a418a9-3f98-4bf8-ad29-82a2c0498835",
        "execution_start": 1680816353553,
        "execution_millis": 59,
        "deepnote_app_coordinates": {
          "h": 9,
          "w": 12,
          "x": 0,
          "y": 313
        },
        "deepnote_to_be_reexecuted": false,
        "deepnote_cell_type": "code"
      },
      "outputs": [
        {
          "output_type": "execute_result",
          "execution_count": 16,
          "data": {
            "text/html": "\n<div id=\"altair-viz-c62d9fc76db84473837169eedd38da06\"></div>\n<script type=\"text/javascript\">\n  var VEGA_DEBUG = (typeof VEGA_DEBUG == \"undefined\") ? {} : VEGA_DEBUG;\n  (function(spec, embedOpt){\n    let outputDiv = document.currentScript.previousElementSibling;\n    if (outputDiv.id !== \"altair-viz-c62d9fc76db84473837169eedd38da06\") {\n      outputDiv = document.getElementById(\"altair-viz-c62d9fc76db84473837169eedd38da06\");\n    }\n    const paths = {\n      \"vega\": \"https://cdn.jsdelivr.net/npm/vega@5?noext\",\n      \"vega-lib\": \"https://cdn.jsdelivr.net/npm/vega-lib?noext\",\n      \"vega-lite\": \"https://cdn.jsdelivr.net/npm/vega-lite@5.6.1?noext\",\n      \"vega-embed\": \"https://cdn.jsdelivr.net/npm/vega-embed@6?noext\",\n    };\n\n    function maybeLoadScript(lib, version) {\n      var key = `${lib.replace(\"-\", \"\")}_version`;\n      return (VEGA_DEBUG[key] == version) ?\n        Promise.resolve(paths[lib]) :\n        new Promise(function(resolve, reject) {\n          var s = document.createElement('script');\n          document.getElementsByTagName(\"head\")[0].appendChild(s);\n          s.async = true;\n          s.onload = () => {\n            VEGA_DEBUG[key] = version;\n            return resolve(paths[lib]);\n          };\n          s.onerror = () => reject(`Error loading script: ${paths[lib]}`);\n          s.src = paths[lib];\n        });\n    }\n\n    function showError(err) {\n      outputDiv.innerHTML = `<div class=\"error\" style=\"color:red;\">${err}</div>`;\n      throw err;\n    }\n\n    function displayChart(vegaEmbed) {\n      vegaEmbed(outputDiv, spec, embedOpt)\n        .catch(err => showError(`Javascript Error: ${err.message}<br>This usually means there's a typo in your chart specification. See the javascript console for the full traceback.`));\n    }\n\n    if(typeof define === \"function\" && define.amd) {\n      requirejs.config({paths});\n      require([\"vega-embed\"], displayChart, err => showError(`Error loading script: ${err.message}`));\n    } else {\n      maybeLoadScript(\"vega\", \"5\")\n        .then(() => maybeLoadScript(\"vega-lite\", \"5.6.1\"))\n        .then(() => maybeLoadScript(\"vega-embed\", \"6\"))\n        .catch(showError)\n        .then(() => displayChart(vegaEmbed));\n    }\n  })({\"config\": {\"view\": {\"continuousWidth\": 300, \"continuousHeight\": 300}}, \"data\": {\"name\": \"data-1845407f5a04ba73daa16a45b098ebd0\"}, \"mark\": {\"type\": \"circle\"}, \"encoding\": {\"color\": {\"field\": \"continent\", \"type\": \"nominal\"}, \"tooltip\": [{\"field\": \"name\", \"type\": \"nominal\"}, {\"field\": \"capital\", \"type\": \"nominal\"}, {\"field\": \"areaInSqKm\", \"type\": \"quantitative\"}, {\"field\": \"population\", \"type\": \"quantitative\"}, {\"field\": \"continent\", \"type\": \"nominal\"}], \"x\": {\"field\": \"areaInSqKm\", \"scale\": {\"type\": \"log\"}, \"type\": \"quantitative\"}, \"y\": {\"field\": \"population\", \"scale\": {\"type\": \"log\"}, \"type\": \"quantitative\"}}, \"height\": 400, \"params\": [{\"name\": \"param_1\", \"select\": {\"type\": \"interval\", \"encodings\": [\"x\", \"y\"]}, \"bind\": \"scales\"}], \"transform\": [{\"filter\": \"(datum.population > 0)\"}], \"width\": 600, \"$schema\": \"https://vega.github.io/schema/vega-lite/v5.6.1.json\", \"datasets\": {\"data-1845407f5a04ba73daa16a45b098ebd0\": [{\"iso alpha2\": \"AD\", \"iso alpha3\": \"AND\", \"iso numeric\": 20, \"fips code\": \"AN\", \"name\": \"Andorra\", \"capital\": \"Andorra la Vella\", \"areaInSqKm\": 468.0, \"population\": 77006, \"continent\": \"Europe\", \"languages\": \"ca\", \"currency\": \"EUR\", \"geonameId\": 3041565}, {\"iso alpha2\": \"AE\", \"iso alpha3\": \"ARE\", \"iso numeric\": 784, \"fips code\": \"AE\", \"name\": \"United Arab Emirates\", \"capital\": \"Abu Dhabi\", \"areaInSqKm\": 82880.0, \"population\": 9630959, \"continent\": \"Asia\", \"languages\": \"ar-AE,fa,en,hi,ur\", \"currency\": \"AED\", \"geonameId\": 290557}, {\"iso alpha2\": \"AF\", \"iso alpha3\": \"AFG\", \"iso numeric\": 4, \"fips code\": \"AF\", \"name\": \"Afghanistan\", \"capital\": \"Kabul\", \"areaInSqKm\": 647500.0, \"population\": 37172386, \"continent\": \"Asia\", \"languages\": \"fa-AF,ps,uz-AF,tk\", \"currency\": \"AFN\", \"geonameId\": 1149361}, {\"iso alpha2\": \"AG\", \"iso alpha3\": \"ATG\", \"iso numeric\": 28, \"fips code\": \"AC\", \"name\": \"Antigua and Barbuda\", \"capital\": \"St John's\", \"areaInSqKm\": 443.0, \"population\": 96286, \"continent\": \"North America\", \"languages\": \"en-AG\", \"currency\": \"XCD\", \"geonameId\": 3576396}, {\"iso alpha2\": \"AI\", \"iso alpha3\": \"AIA\", \"iso numeric\": 660, \"fips code\": \"AV\", \"name\": \"Anguilla\", \"capital\": \"The Valley\", \"areaInSqKm\": 102.0, \"population\": 13254, \"continent\": \"North America\", \"languages\": \"en-AI\", \"currency\": \"XCD\", \"geonameId\": 3573511}, {\"iso alpha2\": \"AL\", \"iso alpha3\": \"ALB\", \"iso numeric\": 8, \"fips code\": \"AL\", \"name\": \"Albania\", \"capital\": \"Tirana\", \"areaInSqKm\": 28748.0, \"population\": 2866376, \"continent\": \"Europe\", \"languages\": \"sq,el\", \"currency\": \"ALL\", \"geonameId\": 783754}, {\"iso alpha2\": \"AM\", \"iso alpha3\": \"ARM\", \"iso numeric\": 51, \"fips code\": \"AM\", \"name\": \"Armenia\", \"capital\": \"Yerevan\", \"areaInSqKm\": 29800.0, \"population\": 2951776, \"continent\": \"Asia\", \"languages\": \"hy\", \"currency\": \"AMD\", \"geonameId\": 174982}, {\"iso alpha2\": \"AN\", \"iso alpha3\": \"ANT\", \"iso numeric\": 530, \"fips code\": \"NT\", \"name\": \"\", \"capital\": \"\", \"areaInSqKm\": 960.0, \"population\": 300000, \"continent\": \"North America\", \"languages\": \"nl-AN,en,es\", \"currency\": \"ANG\", \"geonameId\": 8505032}, {\"iso alpha2\": \"AO\", \"iso alpha3\": \"AGO\", \"iso numeric\": 24, \"fips code\": \"AO\", \"name\": \"Angola\", \"capital\": \"Luanda\", \"areaInSqKm\": 1246700.0, \"population\": 30809762, \"continent\": \"Africa\", \"languages\": \"pt-AO\", \"currency\": \"AOA\", \"geonameId\": 3351879}, {\"iso alpha2\": \"AQ\", \"iso alpha3\": \"ATA\", \"iso numeric\": 10, \"fips code\": \"AY\", \"name\": \"Antarctica\", \"capital\": \"\", \"areaInSqKm\": 14000000.0, \"population\": 0, \"continent\": \"Antarctica\", \"languages\": \"\", \"currency\": \"\", \"geonameId\": 6697173}, {\"iso alpha2\": \"AR\", \"iso alpha3\": \"ARG\", \"iso numeric\": 32, \"fips code\": \"AR\", \"name\": \"Argentina\", \"capital\": \"Buenos Aires\", \"areaInSqKm\": 2766890.0, \"population\": 44494502, \"continent\": \"South America\", \"languages\": \"es-AR,en,it,de,fr,gn\", \"currency\": \"ARS\", \"geonameId\": 3865483}, {\"iso alpha2\": \"AS\", \"iso alpha3\": \"ASM\", \"iso numeric\": 16, \"fips code\": \"AQ\", \"name\": \"American Samoa\", \"capital\": \"Pago Pago\", \"areaInSqKm\": 199.0, \"population\": 55465, \"continent\": \"Oceania\", \"languages\": \"en-AS,sm,to\", \"currency\": \"USD\", \"geonameId\": 5880801}, {\"iso alpha2\": \"AT\", \"iso alpha3\": \"AUT\", \"iso numeric\": 40, \"fips code\": \"AU\", \"name\": \"Austria\", \"capital\": \"Vienna\", \"areaInSqKm\": 83858.0, \"population\": 8847037, \"continent\": \"Europe\", \"languages\": \"de-AT,hr,hu,sl\", \"currency\": \"EUR\", \"geonameId\": 2782113}, {\"iso alpha2\": \"AU\", \"iso alpha3\": \"AUS\", \"iso numeric\": 36, \"fips code\": \"AS\", \"name\": \"Australia\", \"capital\": \"Canberra\", \"areaInSqKm\": 7686850.0, \"population\": 24992369, \"continent\": \"Oceania\", \"languages\": \"en-AU\", \"currency\": \"AUD\", \"geonameId\": 2077456}, {\"iso alpha2\": \"AW\", \"iso alpha3\": \"ABW\", \"iso numeric\": 533, \"fips code\": \"AA\", \"name\": \"Aruba\", \"capital\": \"Oranjestad\", \"areaInSqKm\": 193.0, \"population\": 105845, \"continent\": \"North America\", \"languages\": \"nl-AW,pap,es,en\", \"currency\": \"AWG\", \"geonameId\": 3577279}, {\"iso alpha2\": \"AX\", \"iso alpha3\": \"ALA\", \"iso numeric\": 248, \"fips code\": \"\", \"name\": \"\\u00c5land\", \"capital\": \"Mariehamn\", \"areaInSqKm\": 1580.0, \"population\": 26711, \"continent\": \"Europe\", \"languages\": \"sv-AX\", \"currency\": \"EUR\", \"geonameId\": 661882}, {\"iso alpha2\": \"AZ\", \"iso alpha3\": \"AZE\", \"iso numeric\": 31, \"fips code\": \"AJ\", \"name\": \"Azerbaijan\", \"capital\": \"Baku\", \"areaInSqKm\": 86600.0, \"population\": 9942334, \"continent\": \"Asia\", \"languages\": \"az,ru,hy\", \"currency\": \"AZN\", \"geonameId\": 587116}, {\"iso alpha2\": \"BA\", \"iso alpha3\": \"BIH\", \"iso numeric\": 70, \"fips code\": \"BK\", \"name\": \"Bosnia and Herzegovina\", \"capital\": \"Sarajevo\", \"areaInSqKm\": 51129.0, \"population\": 3323929, \"continent\": \"Europe\", \"languages\": \"bs,hr-BA,sr-BA\", \"currency\": \"BAM\", \"geonameId\": 3277605}, {\"iso alpha2\": \"BB\", \"iso alpha3\": \"BRB\", \"iso numeric\": 52, \"fips code\": \"BB\", \"name\": \"Barbados\", \"capital\": \"Bridgetown\", \"areaInSqKm\": 431.0, \"population\": 286641, \"continent\": \"North America\", \"languages\": \"en-BB\", \"currency\": \"BBD\", \"geonameId\": 3374084}, {\"iso alpha2\": \"BD\", \"iso alpha3\": \"BGD\", \"iso numeric\": 50, \"fips code\": \"BG\", \"name\": \"Bangladesh\", \"capital\": \"Dhaka\", \"areaInSqKm\": 144000.0, \"population\": 161356039, \"continent\": \"Asia\", \"languages\": \"bn-BD,en\", \"currency\": \"BDT\", \"geonameId\": 1210997}, {\"iso alpha2\": \"BE\", \"iso alpha3\": \"BEL\", \"iso numeric\": 56, \"fips code\": \"BE\", \"name\": \"Belgium\", \"capital\": \"Brussels\", \"areaInSqKm\": 30510.0, \"population\": 11422068, \"continent\": \"Europe\", \"languages\": \"nl-BE,fr-BE,de-BE\", \"currency\": \"EUR\", \"geonameId\": 2802361}, {\"iso alpha2\": \"BF\", \"iso alpha3\": \"BFA\", \"iso numeric\": 854, \"fips code\": \"UV\", \"name\": \"Burkina Faso\", \"capital\": \"Ouagadougou\", \"areaInSqKm\": 274200.0, \"population\": 19751535, \"continent\": \"Africa\", \"languages\": \"fr-BF,mos\", \"currency\": \"XOF\", \"geonameId\": 2361809}, {\"iso alpha2\": \"BG\", \"iso alpha3\": \"BGR\", \"iso numeric\": 100, \"fips code\": \"BU\", \"name\": \"Bulgaria\", \"capital\": \"Sofia\", \"areaInSqKm\": 110910.0, \"population\": 7000039, \"continent\": \"Europe\", \"languages\": \"bg,tr-BG,rom\", \"currency\": \"BGN\", \"geonameId\": 732800}, {\"iso alpha2\": \"BH\", \"iso alpha3\": \"BHR\", \"iso numeric\": 48, \"fips code\": \"BA\", \"name\": \"Bahrain\", \"capital\": \"Manama\", \"areaInSqKm\": 665.0, \"population\": 1569439, \"continent\": \"Asia\", \"languages\": \"ar-BH,en,fa,ur\", \"currency\": \"BHD\", \"geonameId\": 290291}, {\"iso alpha2\": \"BI\", \"iso alpha3\": \"BDI\", \"iso numeric\": 108, \"fips code\": \"BY\", \"name\": \"Burundi\", \"capital\": \"Gitega\", \"areaInSqKm\": 27830.0, \"population\": 11175378, \"continent\": \"Africa\", \"languages\": \"fr-BI,rn\", \"currency\": \"BIF\", \"geonameId\": 433561}, {\"iso alpha2\": \"BJ\", \"iso alpha3\": \"BEN\", \"iso numeric\": 204, \"fips code\": \"BN\", \"name\": \"Benin\", \"capital\": \"Porto-Novo\", \"areaInSqKm\": 112620.0, \"population\": 11485048, \"continent\": \"Africa\", \"languages\": \"fr-BJ\", \"currency\": \"XOF\", \"geonameId\": 2395170}, {\"iso alpha2\": \"BL\", \"iso alpha3\": \"BLM\", \"iso numeric\": 652, \"fips code\": \"TB\", \"name\": \"Saint Barth\\u00e9lemy\", \"capital\": \"Gustavia\", \"areaInSqKm\": 21.0, \"population\": 8450, \"continent\": \"North America\", \"languages\": \"fr\", \"currency\": \"EUR\", \"geonameId\": 3578476}, {\"iso alpha2\": \"BM\", \"iso alpha3\": \"BMU\", \"iso numeric\": 60, \"fips code\": \"BD\", \"name\": \"Bermuda\", \"capital\": \"Hamilton\", \"areaInSqKm\": 53.0, \"population\": 63968, \"continent\": \"North America\", \"languages\": \"en-BM,pt\", \"currency\": \"BMD\", \"geonameId\": 3573345}, {\"iso alpha2\": \"BN\", \"iso alpha3\": \"BRN\", \"iso numeric\": 96, \"fips code\": \"BX\", \"name\": \"Brunei\", \"capital\": \"Bandar Seri Begawan\", \"areaInSqKm\": 5770.0, \"population\": 428962, \"continent\": \"Asia\", \"languages\": \"ms-BN,en-BN\", \"currency\": \"BND\", \"geonameId\": 1820814}, {\"iso alpha2\": \"BO\", \"iso alpha3\": \"BOL\", \"iso numeric\": 68, \"fips code\": \"BL\", \"name\": \"Bolivia\", \"capital\": \"Sucre\", \"areaInSqKm\": 1098580.0, \"population\": 11353142, \"continent\": \"South America\", \"languages\": \"es-BO,qu,ay\", \"currency\": \"BOB\", \"geonameId\": 3923057}, {\"iso alpha2\": \"BQ\", \"iso alpha3\": \"BES\", \"iso numeric\": 535, \"fips code\": \"\", \"name\": \"Bonaire, Sint Eustatius, and Saba\", \"capital\": \"Kralendijk\", \"areaInSqKm\": 328.0, \"population\": 18012, \"continent\": \"North America\", \"languages\": \"nl,pap,en\", \"currency\": \"USD\", \"geonameId\": 7626844}, {\"iso alpha2\": \"BR\", \"iso alpha3\": \"BRA\", \"iso numeric\": 76, \"fips code\": \"BR\", \"name\": \"Brazil\", \"capital\": \"Bras\\u00edlia\", \"areaInSqKm\": 8511965.0, \"population\": 209469333, \"continent\": \"South America\", \"languages\": \"pt-BR,es,en,fr\", \"currency\": \"BRL\", \"geonameId\": 3469034}, {\"iso alpha2\": \"BS\", \"iso alpha3\": \"BHS\", \"iso numeric\": 44, \"fips code\": \"BF\", \"name\": \"Bahamas\", \"capital\": \"Nassau\", \"areaInSqKm\": 13940.0, \"population\": 385640, \"continent\": \"North America\", \"languages\": \"en-BS\", \"currency\": \"BSD\", \"geonameId\": 3572887}, {\"iso alpha2\": \"BT\", \"iso alpha3\": \"BTN\", \"iso numeric\": 64, \"fips code\": \"BT\", \"name\": \"Bhutan\", \"capital\": \"Thimphu\", \"areaInSqKm\": 47000.0, \"population\": 754394, \"continent\": \"Asia\", \"languages\": \"dz\", \"currency\": \"BTN\", \"geonameId\": 1252634}, {\"iso alpha2\": \"BV\", \"iso alpha3\": \"BVT\", \"iso numeric\": 74, \"fips code\": \"BV\", \"name\": \"Bouvet Island\", \"capital\": \"\", \"areaInSqKm\": 49.0, \"population\": 0, \"continent\": \"Antarctica\", \"languages\": \"\", \"currency\": \"NOK\", \"geonameId\": 3371123}, {\"iso alpha2\": \"BW\", \"iso alpha3\": \"BWA\", \"iso numeric\": 72, \"fips code\": \"BC\", \"name\": \"Botswana\", \"capital\": \"Gaborone\", \"areaInSqKm\": 600370.0, \"population\": 2254126, \"continent\": \"Africa\", \"languages\": \"en-BW,tn-BW\", \"currency\": \"BWP\", \"geonameId\": 933860}, {\"iso alpha2\": \"BY\", \"iso alpha3\": \"BLR\", \"iso numeric\": 112, \"fips code\": \"BO\", \"name\": \"Belarus\", \"capital\": \"Minsk\", \"areaInSqKm\": 207600.0, \"population\": 9485386, \"continent\": \"Europe\", \"languages\": \"be,ru\", \"currency\": \"BYN\", \"geonameId\": 630336}, {\"iso alpha2\": \"BZ\", \"iso alpha3\": \"BLZ\", \"iso numeric\": 84, \"fips code\": \"BH\", \"name\": \"Belize\", \"capital\": \"Belmopan\", \"areaInSqKm\": 22966.0, \"population\": 383071, \"continent\": \"North America\", \"languages\": \"en-BZ,es\", \"currency\": \"BZD\", \"geonameId\": 3582678}, {\"iso alpha2\": \"CA\", \"iso alpha3\": \"CAN\", \"iso numeric\": 124, \"fips code\": \"CA\", \"name\": \"Canada\", \"capital\": \"Ottawa\", \"areaInSqKm\": 9984670.0, \"population\": 37058856, \"continent\": \"North America\", \"languages\": \"en-CA,fr-CA,iu\", \"currency\": \"CAD\", \"geonameId\": 6251999}, {\"iso alpha2\": \"CC\", \"iso alpha3\": \"CCK\", \"iso numeric\": 166, \"fips code\": \"CK\", \"name\": \"Cocos (Keeling) Islands\", \"capital\": \"West Island\", \"areaInSqKm\": 14.0, \"population\": 628, \"continent\": \"Asia\", \"languages\": \"ms-CC,en\", \"currency\": \"AUD\", \"geonameId\": 1547376}, {\"iso alpha2\": \"CD\", \"iso alpha3\": \"COD\", \"iso numeric\": 180, \"fips code\": \"CG\", \"name\": \"DR Congo\", \"capital\": \"Kinshasa\", \"areaInSqKm\": 2345410.0, \"population\": 84068091, \"continent\": \"Africa\", \"languages\": \"fr-CD,ln,ktu,kg,sw,lua\", \"currency\": \"CDF\", \"geonameId\": 203312}, {\"iso alpha2\": \"CF\", \"iso alpha3\": \"CAF\", \"iso numeric\": 140, \"fips code\": \"CT\", \"name\": \"Central African Republic\", \"capital\": \"Bangui\", \"areaInSqKm\": 622984.0, \"population\": 4666377, \"continent\": \"Africa\", \"languages\": \"fr-CF,sg,ln,kg\", \"currency\": \"XAF\", \"geonameId\": 239880}, {\"iso alpha2\": \"CG\", \"iso alpha3\": \"COG\", \"iso numeric\": 178, \"fips code\": \"CF\", \"name\": \"Congo Republic\", \"capital\": \"Brazzaville\", \"areaInSqKm\": 342000.0, \"population\": 5244363, \"continent\": \"Africa\", \"languages\": \"fr-CG,kg,ln-CG\", \"currency\": \"XAF\", \"geonameId\": 2260494}, {\"iso alpha2\": \"CH\", \"iso alpha3\": \"CHE\", \"iso numeric\": 756, \"fips code\": \"SZ\", \"name\": \"Switzerland\", \"capital\": \"Bern\", \"areaInSqKm\": 41290.0, \"population\": 8516543, \"continent\": \"Europe\", \"languages\": \"de-CH,fr-CH,it-CH,rm\", \"currency\": \"CHF\", \"geonameId\": 2658434}, {\"iso alpha2\": \"CI\", \"iso alpha3\": \"CIV\", \"iso numeric\": 384, \"fips code\": \"IV\", \"name\": \"Ivory Coast\", \"capital\": \"Yamoussoukro\", \"areaInSqKm\": 322460.0, \"population\": 25069229, \"continent\": \"Africa\", \"languages\": \"fr-CI\", \"currency\": \"XOF\", \"geonameId\": 2287781}, {\"iso alpha2\": \"CK\", \"iso alpha3\": \"COK\", \"iso numeric\": 184, \"fips code\": \"CW\", \"name\": \"Cook Islands\", \"capital\": \"Avarua\", \"areaInSqKm\": 240.0, \"population\": 21388, \"continent\": \"Oceania\", \"languages\": \"en-CK,mi\", \"currency\": \"NZD\", \"geonameId\": 1899402}, {\"iso alpha2\": \"CL\", \"iso alpha3\": \"CHL\", \"iso numeric\": 152, \"fips code\": \"CI\", \"name\": \"Chile\", \"capital\": \"Santiago\", \"areaInSqKm\": 756950.0, \"population\": 18729160, \"continent\": \"South America\", \"languages\": \"es-CL\", \"currency\": \"CLP\", \"geonameId\": 3895114}, {\"iso alpha2\": \"CM\", \"iso alpha3\": \"CMR\", \"iso numeric\": 120, \"fips code\": \"CM\", \"name\": \"Cameroon\", \"capital\": \"Yaound\\u00e9\", \"areaInSqKm\": 475440.0, \"population\": 25216237, \"continent\": \"Africa\", \"languages\": \"en-CM,fr-CM\", \"currency\": \"XAF\", \"geonameId\": 2233387}, {\"iso alpha2\": \"CN\", \"iso alpha3\": \"CHN\", \"iso numeric\": 156, \"fips code\": \"CH\", \"name\": \"China\", \"capital\": \"Beijing\", \"areaInSqKm\": 9596960.0, \"population\": 1411778724, \"continent\": \"Asia\", \"languages\": \"zh-CN,yue,wuu,dta,ug,za\", \"currency\": \"CNY\", \"geonameId\": 1814991}, {\"iso alpha2\": \"CO\", \"iso alpha3\": \"COL\", \"iso numeric\": 170, \"fips code\": \"CO\", \"name\": \"Colombia\", \"capital\": \"Bogot\\u00e1\", \"areaInSqKm\": 1138910.0, \"population\": 49648685, \"continent\": \"South America\", \"languages\": \"es-CO\", \"currency\": \"COP\", \"geonameId\": 3686110}, {\"iso alpha2\": \"CR\", \"iso alpha3\": \"CRI\", \"iso numeric\": 188, \"fips code\": \"CS\", \"name\": \"Costa Rica\", \"capital\": \"San Jos\\u00e9\", \"areaInSqKm\": 51100.0, \"population\": 4999441, \"continent\": \"North America\", \"languages\": \"es-CR,en\", \"currency\": \"CRC\", \"geonameId\": 3624060}, {\"iso alpha2\": \"CS\", \"iso alpha3\": \"SCG\", \"iso numeric\": 891, \"fips code\": \"YI\", \"name\": \"\", \"capital\": \"\", \"areaInSqKm\": 102350.0, \"population\": 10829175, \"continent\": \"Europe\", \"languages\": \"cu,hu,sq,sr\", \"currency\": \"RSD\", \"geonameId\": 8505033}, {\"iso alpha2\": \"CU\", \"iso alpha3\": \"CUB\", \"iso numeric\": 192, \"fips code\": \"CU\", \"name\": \"Cuba\", \"capital\": \"Havana\", \"areaInSqKm\": 110860.0, \"population\": 11338138, \"continent\": \"North America\", \"languages\": \"es-CU,pap\", \"currency\": \"CUP\", \"geonameId\": 3562981}, {\"iso alpha2\": \"CV\", \"iso alpha3\": \"CPV\", \"iso numeric\": 132, \"fips code\": \"CV\", \"name\": \"Cabo Verde\", \"capital\": \"Praia\", \"areaInSqKm\": 4033.0, \"population\": 543767, \"continent\": \"Africa\", \"languages\": \"pt-CV\", \"currency\": \"CVE\", \"geonameId\": 3374766}, {\"iso alpha2\": \"CW\", \"iso alpha3\": \"CUW\", \"iso numeric\": 531, \"fips code\": \"UC\", \"name\": \"Cura\\u00e7ao\", \"capital\": \"Willemstad\", \"areaInSqKm\": 444.0, \"population\": 159849, \"continent\": \"North America\", \"languages\": \"nl,pap\", \"currency\": \"ANG\", \"geonameId\": 7626836}, {\"iso alpha2\": \"CX\", \"iso alpha3\": \"CXR\", \"iso numeric\": 162, \"fips code\": \"KT\", \"name\": \"Christmas Island\", \"capital\": \"Flying Fish Cove\", \"areaInSqKm\": 135.0, \"population\": 1500, \"continent\": \"Oceania\", \"languages\": \"en,zh,ms-CX\", \"currency\": \"AUD\", \"geonameId\": 2078138}, {\"iso alpha2\": \"CY\", \"iso alpha3\": \"CYP\", \"iso numeric\": 196, \"fips code\": \"CY\", \"name\": \"Cyprus\", \"capital\": \"Nicosia\", \"areaInSqKm\": 9250.0, \"population\": 1189265, \"continent\": \"Europe\", \"languages\": \"el-CY,tr-CY,en\", \"currency\": \"EUR\", \"geonameId\": 146669}, {\"iso alpha2\": \"CZ\", \"iso alpha3\": \"CZE\", \"iso numeric\": 203, \"fips code\": \"EZ\", \"name\": \"Czechia\", \"capital\": \"Prague\", \"areaInSqKm\": 78866.0, \"population\": 10625695, \"continent\": \"Europe\", \"languages\": \"cs,sk\", \"currency\": \"CZK\", \"geonameId\": 3077311}, {\"iso alpha2\": \"DE\", \"iso alpha3\": \"DEU\", \"iso numeric\": 276, \"fips code\": \"GM\", \"name\": \"Germany\", \"capital\": \"Berlin\", \"areaInSqKm\": 357021.0, \"population\": 82927922, \"continent\": \"Europe\", \"languages\": \"de\", \"currency\": \"EUR\", \"geonameId\": 2921044}, {\"iso alpha2\": \"DJ\", \"iso alpha3\": \"DJI\", \"iso numeric\": 262, \"fips code\": \"DJ\", \"name\": \"Djibouti\", \"capital\": \"Djibouti\", \"areaInSqKm\": 23000.0, \"population\": 958920, \"continent\": \"Africa\", \"languages\": \"fr-DJ,ar,so-DJ,aa\", \"currency\": \"DJF\", \"geonameId\": 223816}, {\"iso alpha2\": \"DK\", \"iso alpha3\": \"DNK\", \"iso numeric\": 208, \"fips code\": \"DA\", \"name\": \"Denmark\", \"capital\": \"Copenhagen\", \"areaInSqKm\": 43094.0, \"population\": 5797446, \"continent\": \"Europe\", \"languages\": \"da-DK,en,fo,de-DK\", \"currency\": \"DKK\", \"geonameId\": 2623032}, {\"iso alpha2\": \"DM\", \"iso alpha3\": \"DMA\", \"iso numeric\": 212, \"fips code\": \"DO\", \"name\": \"Dominica\", \"capital\": \"Roseau\", \"areaInSqKm\": 754.0, \"population\": 71625, \"continent\": \"North America\", \"languages\": \"en-DM\", \"currency\": \"XCD\", \"geonameId\": 3575830}, {\"iso alpha2\": \"DO\", \"iso alpha3\": \"DOM\", \"iso numeric\": 214, \"fips code\": \"DR\", \"name\": \"Dominican Republic\", \"capital\": \"Santo Domingo\", \"areaInSqKm\": 48730.0, \"population\": 10627165, \"continent\": \"North America\", \"languages\": \"es-DO\", \"currency\": \"DOP\", \"geonameId\": 3508796}, {\"iso alpha2\": \"DZ\", \"iso alpha3\": \"DZA\", \"iso numeric\": 12, \"fips code\": \"AG\", \"name\": \"Algeria\", \"capital\": \"Algiers\", \"areaInSqKm\": 2381740.0, \"population\": 42228429, \"continent\": \"Africa\", \"languages\": \"ar-DZ\", \"currency\": \"DZD\", \"geonameId\": 2589581}, {\"iso alpha2\": \"EC\", \"iso alpha3\": \"ECU\", \"iso numeric\": 218, \"fips code\": \"EC\", \"name\": \"Ecuador\", \"capital\": \"Quito\", \"areaInSqKm\": 283560.0, \"population\": 17084357, \"continent\": \"South America\", \"languages\": \"es-EC\", \"currency\": \"USD\", \"geonameId\": 3658394}, {\"iso alpha2\": \"EE\", \"iso alpha3\": \"EST\", \"iso numeric\": 233, \"fips code\": \"EN\", \"name\": \"Estonia\", \"capital\": \"Tallinn\", \"areaInSqKm\": 45226.0, \"population\": 1320884, \"continent\": \"Europe\", \"languages\": \"et,ru\", \"currency\": \"EUR\", \"geonameId\": 453733}, {\"iso alpha2\": \"EG\", \"iso alpha3\": \"EGY\", \"iso numeric\": 818, \"fips code\": \"EG\", \"name\": \"Egypt\", \"capital\": \"Cairo\", \"areaInSqKm\": 1001450.0, \"population\": 98423595, \"continent\": \"Africa\", \"languages\": \"ar-EG,en,fr\", \"currency\": \"EGP\", \"geonameId\": 357994}, {\"iso alpha2\": \"EH\", \"iso alpha3\": \"ESH\", \"iso numeric\": 732, \"fips code\": \"WI\", \"name\": \"Western Sahara\", \"capital\": \"\", \"areaInSqKm\": 266000.0, \"population\": 273008, \"continent\": \"Africa\", \"languages\": \"ar,mey\", \"currency\": \"MAD\", \"geonameId\": 2461445}, {\"iso alpha2\": \"ER\", \"iso alpha3\": \"ERI\", \"iso numeric\": 232, \"fips code\": \"ER\", \"name\": \"Eritrea\", \"capital\": \"Asmara\", \"areaInSqKm\": 121320.0, \"population\": 6209262, \"continent\": \"Africa\", \"languages\": \"aa-ER,ar,tig,kun,ti-ER\", \"currency\": \"ERN\", \"geonameId\": 338010}, {\"iso alpha2\": \"ES\", \"iso alpha3\": \"ESP\", \"iso numeric\": 724, \"fips code\": \"SP\", \"name\": \"Spain\", \"capital\": \"Madrid\", \"areaInSqKm\": 504782.0, \"population\": 46723749, \"continent\": \"Europe\", \"languages\": \"es-ES,ca,gl,eu,oc\", \"currency\": \"EUR\", \"geonameId\": 2510769}, {\"iso alpha2\": \"ET\", \"iso alpha3\": \"ETH\", \"iso numeric\": 231, \"fips code\": \"ET\", \"name\": \"Ethiopia\", \"capital\": \"Addis Ababa\", \"areaInSqKm\": 1127127.0, \"population\": 109224559, \"continent\": \"Africa\", \"languages\": \"am,en-ET,om-ET,ti-ET,so-ET,sid\", \"currency\": \"ETB\", \"geonameId\": 337996}, {\"iso alpha2\": \"FI\", \"iso alpha3\": \"FIN\", \"iso numeric\": 246, \"fips code\": \"FI\", \"name\": \"Finland\", \"capital\": \"Helsinki\", \"areaInSqKm\": 337030.0, \"population\": 5518050, \"continent\": \"Europe\", \"languages\": \"fi-FI,sv-FI,smn\", \"currency\": \"EUR\", \"geonameId\": 660013}, {\"iso alpha2\": \"FJ\", \"iso alpha3\": \"FJI\", \"iso numeric\": 242, \"fips code\": \"FJ\", \"name\": \"Fiji\", \"capital\": \"Suva\", \"areaInSqKm\": 18270.0, \"population\": 883483, \"continent\": \"Oceania\", \"languages\": \"en-FJ,fj\", \"currency\": \"FJD\", \"geonameId\": 2205218}, {\"iso alpha2\": \"FK\", \"iso alpha3\": \"FLK\", \"iso numeric\": 238, \"fips code\": \"FK\", \"name\": \"Falkland Islands\", \"capital\": \"Stanley\", \"areaInSqKm\": 12173.0, \"population\": 2638, \"continent\": \"South America\", \"languages\": \"en-FK\", \"currency\": \"FKP\", \"geonameId\": 3474414}, {\"iso alpha2\": \"FM\", \"iso alpha3\": \"FSM\", \"iso numeric\": 583, \"fips code\": \"FM\", \"name\": \"Micronesia\", \"capital\": \"Palikir\", \"areaInSqKm\": 702.0, \"population\": 112640, \"continent\": \"Oceania\", \"languages\": \"en-FM,chk,pon,yap,kos,uli,woe,nkr,kpg\", \"currency\": \"USD\", \"geonameId\": 2081918}, {\"iso alpha2\": \"FO\", \"iso alpha3\": \"FRO\", \"iso numeric\": 234, \"fips code\": \"FO\", \"name\": \"Faroe Islands\", \"capital\": \"T\\u00f3rshavn\", \"areaInSqKm\": 1399.0, \"population\": 48497, \"continent\": \"Europe\", \"languages\": \"fo,da-FO\", \"currency\": \"DKK\", \"geonameId\": 2622320}, {\"iso alpha2\": \"FR\", \"iso alpha3\": \"FRA\", \"iso numeric\": 250, \"fips code\": \"FR\", \"name\": \"France\", \"capital\": \"Paris\", \"areaInSqKm\": 547030.0, \"population\": 66987244, \"continent\": \"Europe\", \"languages\": \"fr-FR,frp,br,co,ca,eu,oc\", \"currency\": \"EUR\", \"geonameId\": 3017382}, {\"iso alpha2\": \"GA\", \"iso alpha3\": \"GAB\", \"iso numeric\": 266, \"fips code\": \"GB\", \"name\": \"Gabon\", \"capital\": \"Libreville\", \"areaInSqKm\": 267667.0, \"population\": 2119275, \"continent\": \"Africa\", \"languages\": \"fr-GA\", \"currency\": \"XAF\", \"geonameId\": 2400553}, {\"iso alpha2\": \"GB\", \"iso alpha3\": \"GBR\", \"iso numeric\": 826, \"fips code\": \"UK\", \"name\": \"United Kingdom\", \"capital\": \"London\", \"areaInSqKm\": 244820.0, \"population\": 66488991, \"continent\": \"Europe\", \"languages\": \"en-GB,cy-GB,gd\", \"currency\": \"GBP\", \"geonameId\": 2635167}, {\"iso alpha2\": \"GD\", \"iso alpha3\": \"GRD\", \"iso numeric\": 308, \"fips code\": \"GJ\", \"name\": \"Grenada\", \"capital\": \"St. George's\", \"areaInSqKm\": 344.0, \"population\": 111454, \"continent\": \"North America\", \"languages\": \"en-GD\", \"currency\": \"XCD\", \"geonameId\": 3580239}, {\"iso alpha2\": \"GE\", \"iso alpha3\": \"GEO\", \"iso numeric\": 268, \"fips code\": \"GG\", \"name\": \"Georgia\", \"capital\": \"Tbilisi\", \"areaInSqKm\": 69700.0, \"population\": 3731000, \"continent\": \"Asia\", \"languages\": \"ka,ru,hy,az\", \"currency\": \"GEL\", \"geonameId\": 614540}, {\"iso alpha2\": \"GF\", \"iso alpha3\": \"GUF\", \"iso numeric\": 254, \"fips code\": \"FG\", \"name\": \"French Guiana\", \"capital\": \"Cayenne\", \"areaInSqKm\": 91000.0, \"population\": 195506, \"continent\": \"South America\", \"languages\": \"fr-GF\", \"currency\": \"EUR\", \"geonameId\": 3381670}, {\"iso alpha2\": \"GG\", \"iso alpha3\": \"GGY\", \"iso numeric\": 831, \"fips code\": \"GK\", \"name\": \"Guernsey\", \"capital\": \"St Peter Port\", \"areaInSqKm\": 78.0, \"population\": 65228, \"continent\": \"Europe\", \"languages\": \"en,nrf\", \"currency\": \"GBP\", \"geonameId\": 3042362}, {\"iso alpha2\": \"GH\", \"iso alpha3\": \"GHA\", \"iso numeric\": 288, \"fips code\": \"GH\", \"name\": \"Ghana\", \"capital\": \"Accra\", \"areaInSqKm\": 239460.0, \"population\": 29767108, \"continent\": \"Africa\", \"languages\": \"en-GH,ak,ee,tw\", \"currency\": \"GHS\", \"geonameId\": 2300660}, {\"iso alpha2\": \"GI\", \"iso alpha3\": \"GIB\", \"iso numeric\": 292, \"fips code\": \"GI\", \"name\": \"Gibraltar\", \"capital\": \"Gibraltar\", \"areaInSqKm\": 6.5, \"population\": 33718, \"continent\": \"Europe\", \"languages\": \"en-GI,es,it,pt\", \"currency\": \"GIP\", \"geonameId\": 2411586}, {\"iso alpha2\": \"GL\", \"iso alpha3\": \"GRL\", \"iso numeric\": 304, \"fips code\": \"GL\", \"name\": \"Greenland\", \"capital\": \"Nuuk\", \"areaInSqKm\": 2166086.0, \"population\": 56025, \"continent\": \"North America\", \"languages\": \"kl,da-GL,en\", \"currency\": \"DKK\", \"geonameId\": 3425505}, {\"iso alpha2\": \"GM\", \"iso alpha3\": \"GMB\", \"iso numeric\": 270, \"fips code\": \"GA\", \"name\": \"The Gambia\", \"capital\": \"Banjul\", \"areaInSqKm\": 11300.0, \"population\": 2280102, \"continent\": \"Africa\", \"languages\": \"en-GM,mnk,wof,wo,ff\", \"currency\": \"GMD\", \"geonameId\": 2413451}, {\"iso alpha2\": \"GN\", \"iso alpha3\": \"GIN\", \"iso numeric\": 324, \"fips code\": \"GV\", \"name\": \"Guinea\", \"capital\": \"Conakry\", \"areaInSqKm\": 245857.0, \"population\": 12414318, \"continent\": \"Africa\", \"languages\": \"fr-GN\", \"currency\": \"GNF\", \"geonameId\": 2420477}, {\"iso alpha2\": \"GP\", \"iso alpha3\": \"GLP\", \"iso numeric\": 312, \"fips code\": \"GP\", \"name\": \"Guadeloupe\", \"capital\": \"Basse-Terre\", \"areaInSqKm\": 1780.0, \"population\": 443000, \"continent\": \"North America\", \"languages\": \"fr-GP\", \"currency\": \"EUR\", \"geonameId\": 3579143}, {\"iso alpha2\": \"GQ\", \"iso alpha3\": \"GNQ\", \"iso numeric\": 226, \"fips code\": \"EK\", \"name\": \"Equatorial Guinea\", \"capital\": \"Malabo\", \"areaInSqKm\": 28051.0, \"population\": 1308974, \"continent\": \"Africa\", \"languages\": \"es-GQ,fr,pt\", \"currency\": \"XAF\", \"geonameId\": 2309096}, {\"iso alpha2\": \"GR\", \"iso alpha3\": \"GRC\", \"iso numeric\": 300, \"fips code\": \"GR\", \"name\": \"Greece\", \"capital\": \"Athens\", \"areaInSqKm\": 131940.0, \"population\": 10727668, \"continent\": \"Europe\", \"languages\": \"el-GR,en,fr\", \"currency\": \"EUR\", \"geonameId\": 390903}, {\"iso alpha2\": \"GS\", \"iso alpha3\": \"SGS\", \"iso numeric\": 239, \"fips code\": \"SX\", \"name\": \"South Georgia and South Sandwich Islands\", \"capital\": \"Grytviken\", \"areaInSqKm\": 3903.0, \"population\": 30, \"continent\": \"Antarctica\", \"languages\": \"en\", \"currency\": \"GBP\", \"geonameId\": 3474415}, {\"iso alpha2\": \"GT\", \"iso alpha3\": \"GTM\", \"iso numeric\": 320, \"fips code\": \"GT\", \"name\": \"Guatemala\", \"capital\": \"Guatemala City\", \"areaInSqKm\": 108890.0, \"population\": 17247807, \"continent\": \"North America\", \"languages\": \"es-GT\", \"currency\": \"GTQ\", \"geonameId\": 3595528}, {\"iso alpha2\": \"GU\", \"iso alpha3\": \"GUM\", \"iso numeric\": 316, \"fips code\": \"GQ\", \"name\": \"Guam\", \"capital\": \"Hag\\u00e5t\\u00f1a\", \"areaInSqKm\": 549.0, \"population\": 165768, \"continent\": \"Oceania\", \"languages\": \"en-GU,ch-GU\", \"currency\": \"USD\", \"geonameId\": 4043988}, {\"iso alpha2\": \"GW\", \"iso alpha3\": \"GNB\", \"iso numeric\": 624, \"fips code\": \"PU\", \"name\": \"Guinea-Bissau\", \"capital\": \"Bissau\", \"areaInSqKm\": 36120.0, \"population\": 1874309, \"continent\": \"Africa\", \"languages\": \"pt-GW,pov\", \"currency\": \"XOF\", \"geonameId\": 2372248}, {\"iso alpha2\": \"GY\", \"iso alpha3\": \"GUY\", \"iso numeric\": 328, \"fips code\": \"GY\", \"name\": \"Guyana\", \"capital\": \"Georgetown\", \"areaInSqKm\": 214970.0, \"population\": 779004, \"continent\": \"South America\", \"languages\": \"en-GY\", \"currency\": \"GYD\", \"geonameId\": 3378535}, {\"iso alpha2\": \"HK\", \"iso alpha3\": \"HKG\", \"iso numeric\": 344, \"fips code\": \"HK\", \"name\": \"Hong Kong\", \"capital\": \"Hong Kong\", \"areaInSqKm\": 1092.0, \"population\": 7451000, \"continent\": \"Asia\", \"languages\": \"zh-HK,yue,zh,en\", \"currency\": \"HKD\", \"geonameId\": 1819730}, {\"iso alpha2\": \"HM\", \"iso alpha3\": \"HMD\", \"iso numeric\": 334, \"fips code\": \"HM\", \"name\": \"Heard and McDonald Islands\", \"capital\": \"\", \"areaInSqKm\": 412.0, \"population\": 0, \"continent\": \"Antarctica\", \"languages\": \"\", \"currency\": \"AUD\", \"geonameId\": 1547314}, {\"iso alpha2\": \"HN\", \"iso alpha3\": \"HND\", \"iso numeric\": 340, \"fips code\": \"HO\", \"name\": \"Honduras\", \"capital\": \"Tegucigalpa\", \"areaInSqKm\": 112090.0, \"population\": 9587522, \"continent\": \"North America\", \"languages\": \"es-HN,cab,miq\", \"currency\": \"HNL\", \"geonameId\": 3608932}, {\"iso alpha2\": \"HR\", \"iso alpha3\": \"HRV\", \"iso numeric\": 191, \"fips code\": \"HR\", \"name\": \"Croatia\", \"capital\": \"Zagreb\", \"areaInSqKm\": 56542.0, \"population\": 3871833, \"continent\": \"Europe\", \"languages\": \"hr-HR,sr\", \"currency\": \"EUR\", \"geonameId\": 3202326}, {\"iso alpha2\": \"HT\", \"iso alpha3\": \"HTI\", \"iso numeric\": 332, \"fips code\": \"HA\", \"name\": \"Haiti\", \"capital\": \"Port-au-Prince\", \"areaInSqKm\": 27750.0, \"population\": 11123176, \"continent\": \"North America\", \"languages\": \"ht,fr-HT\", \"currency\": \"HTG\", \"geonameId\": 3723988}, {\"iso alpha2\": \"HU\", \"iso alpha3\": \"HUN\", \"iso numeric\": 348, \"fips code\": \"HU\", \"name\": \"Hungary\", \"capital\": \"Budapest\", \"areaInSqKm\": 93030.0, \"population\": 9768785, \"continent\": \"Europe\", \"languages\": \"hu-HU\", \"currency\": \"HUF\", \"geonameId\": 719819}, {\"iso alpha2\": \"ID\", \"iso alpha3\": \"IDN\", \"iso numeric\": 360, \"fips code\": \"ID\", \"name\": \"Indonesia\", \"capital\": \"Jakarta\", \"areaInSqKm\": 1919440.0, \"population\": 267663435, \"continent\": \"Asia\", \"languages\": \"id,en,nl,jv\", \"currency\": \"IDR\", \"geonameId\": 1643084}, {\"iso alpha2\": \"IE\", \"iso alpha3\": \"IRL\", \"iso numeric\": 372, \"fips code\": \"EI\", \"name\": \"Ireland\", \"capital\": \"Dublin\", \"areaInSqKm\": 70280.0, \"population\": 4853506, \"continent\": \"Europe\", \"languages\": \"en-IE,ga-IE\", \"currency\": \"EUR\", \"geonameId\": 2963597}, {\"iso alpha2\": \"IL\", \"iso alpha3\": \"ISR\", \"iso numeric\": 376, \"fips code\": \"IS\", \"name\": \"Israel\", \"capital\": \"\", \"areaInSqKm\": 20770.0, \"population\": 8883800, \"continent\": \"Asia\", \"languages\": \"he,ar-IL,en-IL,\", \"currency\": \"ILS\", \"geonameId\": 294640}, {\"iso alpha2\": \"IM\", \"iso alpha3\": \"IMN\", \"iso numeric\": 833, \"fips code\": \"IM\", \"name\": \"Isle of Man\", \"capital\": \"Douglas\", \"areaInSqKm\": 572.0, \"population\": 84077, \"continent\": \"Europe\", \"languages\": \"en,gv\", \"currency\": \"GBP\", \"geonameId\": 3042225}, {\"iso alpha2\": \"IN\", \"iso alpha3\": \"IND\", \"iso numeric\": 356, \"fips code\": \"IN\", \"name\": \"India\", \"capital\": \"New Delhi\", \"areaInSqKm\": 3287590.0, \"population\": 1352617328, \"continent\": \"Asia\", \"languages\": \"en-IN,hi,bn,te,mr,ta,ur,gu,kn,ml,or,pa,as,bh,sat,ks,ne,sd,kok,doi,mni,sit,sa,fr,lus,inc\", \"currency\": \"INR\", \"geonameId\": 1269750}, {\"iso alpha2\": \"IO\", \"iso alpha3\": \"IOT\", \"iso numeric\": 86, \"fips code\": \"IO\", \"name\": \"British Indian Ocean Territory\", \"capital\": \"\", \"areaInSqKm\": 60.0, \"population\": 4000, \"continent\": \"Asia\", \"languages\": \"en-IO\", \"currency\": \"USD\", \"geonameId\": 1282588}, {\"iso alpha2\": \"IQ\", \"iso alpha3\": \"IRQ\", \"iso numeric\": 368, \"fips code\": \"IZ\", \"name\": \"Iraq\", \"capital\": \"Baghdad\", \"areaInSqKm\": 437072.0, \"population\": 38433600, \"continent\": \"Asia\", \"languages\": \"ar-IQ,ku,hy\", \"currency\": \"IQD\", \"geonameId\": 99237}, {\"iso alpha2\": \"IR\", \"iso alpha3\": \"IRN\", \"iso numeric\": 364, \"fips code\": \"IR\", \"name\": \"Iran\", \"capital\": \"Tehran\", \"areaInSqKm\": 1648000.0, \"population\": 81800269, \"continent\": \"Asia\", \"languages\": \"fa-IR,ku\", \"currency\": \"IRR\", \"geonameId\": 130758}, {\"iso alpha2\": \"IS\", \"iso alpha3\": \"ISL\", \"iso numeric\": 352, \"fips code\": \"IC\", \"name\": \"Iceland\", \"capital\": \"Reykjavik\", \"areaInSqKm\": 103000.0, \"population\": 353574, \"continent\": \"Europe\", \"languages\": \"is,en,de,da,sv,no\", \"currency\": \"ISK\", \"geonameId\": 2629691}, {\"iso alpha2\": \"IT\", \"iso alpha3\": \"ITA\", \"iso numeric\": 380, \"fips code\": \"IT\", \"name\": \"Italy\", \"capital\": \"Rome\", \"areaInSqKm\": 301230.0, \"population\": 60431283, \"continent\": \"Europe\", \"languages\": \"it-IT,de-IT,fr-IT,sc,ca,co,sl\", \"currency\": \"EUR\", \"geonameId\": 3175395}, {\"iso alpha2\": \"JE\", \"iso alpha3\": \"JEY\", \"iso numeric\": 832, \"fips code\": \"JE\", \"name\": \"Jersey\", \"capital\": \"Saint Helier\", \"areaInSqKm\": 116.0, \"population\": 90812, \"continent\": \"Europe\", \"languages\": \"en,fr,nrf\", \"currency\": \"GBP\", \"geonameId\": 3042142}, {\"iso alpha2\": \"JM\", \"iso alpha3\": \"JAM\", \"iso numeric\": 388, \"fips code\": \"JM\", \"name\": \"Jamaica\", \"capital\": \"Kingston\", \"areaInSqKm\": 10991.0, \"population\": 2934855, \"continent\": \"North America\", \"languages\": \"en-JM\", \"currency\": \"JMD\", \"geonameId\": 3489940}, {\"iso alpha2\": \"JO\", \"iso alpha3\": \"JOR\", \"iso numeric\": 400, \"fips code\": \"JO\", \"name\": \"Jordan\", \"capital\": \"Amman\", \"areaInSqKm\": 92300.0, \"population\": 9956011, \"continent\": \"Asia\", \"languages\": \"ar-JO,en\", \"currency\": \"JOD\", \"geonameId\": 248816}, {\"iso alpha2\": \"JP\", \"iso alpha3\": \"JPN\", \"iso numeric\": 392, \"fips code\": \"JA\", \"name\": \"Japan\", \"capital\": \"Tokyo\", \"areaInSqKm\": 377835.0, \"population\": 126529100, \"continent\": \"Asia\", \"languages\": \"ja\", \"currency\": \"JPY\", \"geonameId\": 1861060}, {\"iso alpha2\": \"KE\", \"iso alpha3\": \"KEN\", \"iso numeric\": 404, \"fips code\": \"KE\", \"name\": \"Kenya\", \"capital\": \"Nairobi\", \"areaInSqKm\": 582650.0, \"population\": 51393010, \"continent\": \"Africa\", \"languages\": \"en-KE,sw-KE\", \"currency\": \"KES\", \"geonameId\": 192950}, {\"iso alpha2\": \"KG\", \"iso alpha3\": \"KGZ\", \"iso numeric\": 417, \"fips code\": \"KG\", \"name\": \"Kyrgyzstan\", \"capital\": \"Bishkek\", \"areaInSqKm\": 198500.0, \"population\": 6315800, \"continent\": \"Asia\", \"languages\": \"ky,uz,ru\", \"currency\": \"KGS\", \"geonameId\": 1527747}, {\"iso alpha2\": \"KH\", \"iso alpha3\": \"KHM\", \"iso numeric\": 116, \"fips code\": \"CB\", \"name\": \"Cambodia\", \"capital\": \"Phnom Penh\", \"areaInSqKm\": 181040.0, \"population\": 16249798, \"continent\": \"Asia\", \"languages\": \"km,fr,en\", \"currency\": \"KHR\", \"geonameId\": 1831722}, {\"iso alpha2\": \"KI\", \"iso alpha3\": \"KIR\", \"iso numeric\": 296, \"fips code\": \"KR\", \"name\": \"Kiribati\", \"capital\": \"Tarawa\", \"areaInSqKm\": 811.0, \"population\": 115847, \"continent\": \"Oceania\", \"languages\": \"en-KI,gil\", \"currency\": \"AUD\", \"geonameId\": 4030945}, {\"iso alpha2\": \"KM\", \"iso alpha3\": \"COM\", \"iso numeric\": 174, \"fips code\": \"CN\", \"name\": \"Comoros\", \"capital\": \"Moroni\", \"areaInSqKm\": 2170.0, \"population\": 832322, \"continent\": \"Africa\", \"languages\": \"ar,fr-KM\", \"currency\": \"KMF\", \"geonameId\": 921929}, {\"iso alpha2\": \"KN\", \"iso alpha3\": \"KNA\", \"iso numeric\": 659, \"fips code\": \"SC\", \"name\": \"St Kitts and Nevis\", \"capital\": \"Basseterre\", \"areaInSqKm\": 261.0, \"population\": 52441, \"continent\": \"North America\", \"languages\": \"en-KN\", \"currency\": \"XCD\", \"geonameId\": 3575174}, {\"iso alpha2\": \"KP\", \"iso alpha3\": \"PRK\", \"iso numeric\": 408, \"fips code\": \"KN\", \"name\": \"North Korea\", \"capital\": \"Pyongyang\", \"areaInSqKm\": 120540.0, \"population\": 25549819, \"continent\": \"Asia\", \"languages\": \"ko-KP\", \"currency\": \"KPW\", \"geonameId\": 1873107}, {\"iso alpha2\": \"KR\", \"iso alpha3\": \"KOR\", \"iso numeric\": 410, \"fips code\": \"KS\", \"name\": \"South Korea\", \"capital\": \"Seoul\", \"areaInSqKm\": 98480.0, \"population\": 51635256, \"continent\": \"Asia\", \"languages\": \"ko-KR,en\", \"currency\": \"KRW\", \"geonameId\": 1835841}, {\"iso alpha2\": \"KW\", \"iso alpha3\": \"KWT\", \"iso numeric\": 414, \"fips code\": \"KU\", \"name\": \"Kuwait\", \"capital\": \"Kuwait City\", \"areaInSqKm\": 17820.0, \"population\": 4137309, \"continent\": \"Asia\", \"languages\": \"ar-KW,en\", \"currency\": \"KWD\", \"geonameId\": 285570}, {\"iso alpha2\": \"KY\", \"iso alpha3\": \"CYM\", \"iso numeric\": 136, \"fips code\": \"CJ\", \"name\": \"Cayman Islands\", \"capital\": \"George Town\", \"areaInSqKm\": 262.0, \"population\": 64174, \"continent\": \"North America\", \"languages\": \"en-KY\", \"currency\": \"KYD\", \"geonameId\": 3580718}, {\"iso alpha2\": \"KZ\", \"iso alpha3\": \"KAZ\", \"iso numeric\": 398, \"fips code\": \"KZ\", \"name\": \"Kazakhstan\", \"capital\": \"Nur-Sultan\", \"areaInSqKm\": 2717300.0, \"population\": 18276499, \"continent\": \"Asia\", \"languages\": \"kk,ru\", \"currency\": \"KZT\", \"geonameId\": 1522867}, {\"iso alpha2\": \"LA\", \"iso alpha3\": \"LAO\", \"iso numeric\": 418, \"fips code\": \"LA\", \"name\": \"Laos\", \"capital\": \"Vientiane\", \"areaInSqKm\": 236800.0, \"population\": 7061507, \"continent\": \"Asia\", \"languages\": \"lo,fr,en\", \"currency\": \"LAK\", \"geonameId\": 1655842}, {\"iso alpha2\": \"LB\", \"iso alpha3\": \"LBN\", \"iso numeric\": 422, \"fips code\": \"LE\", \"name\": \"Lebanon\", \"capital\": \"Beirut\", \"areaInSqKm\": 10400.0, \"population\": 6848925, \"continent\": \"Asia\", \"languages\": \"ar-LB,fr-LB,en,hy\", \"currency\": \"LBP\", \"geonameId\": 272103}, {\"iso alpha2\": \"LC\", \"iso alpha3\": \"LCA\", \"iso numeric\": 662, \"fips code\": \"ST\", \"name\": \"Saint Lucia\", \"capital\": \"Castries\", \"areaInSqKm\": 616.0, \"population\": 181889, \"continent\": \"North America\", \"languages\": \"en-LC\", \"currency\": \"XCD\", \"geonameId\": 3576468}, {\"iso alpha2\": \"LI\", \"iso alpha3\": \"LIE\", \"iso numeric\": 438, \"fips code\": \"LS\", \"name\": \"Liechtenstein\", \"capital\": \"Vaduz\", \"areaInSqKm\": 160.0, \"population\": 37910, \"continent\": \"Europe\", \"languages\": \"de-LI\", \"currency\": \"CHF\", \"geonameId\": 3042058}, {\"iso alpha2\": \"LK\", \"iso alpha3\": \"LKA\", \"iso numeric\": 144, \"fips code\": \"CE\", \"name\": \"Sri Lanka\", \"capital\": \"Colombo\", \"areaInSqKm\": 65610.0, \"population\": 21670000, \"continent\": \"Asia\", \"languages\": \"si,ta,en\", \"currency\": \"LKR\", \"geonameId\": 1227603}, {\"iso alpha2\": \"LR\", \"iso alpha3\": \"LBR\", \"iso numeric\": 430, \"fips code\": \"LI\", \"name\": \"Liberia\", \"capital\": \"Monrovia\", \"areaInSqKm\": 111370.0, \"population\": 4818977, \"continent\": \"Africa\", \"languages\": \"en-LR\", \"currency\": \"LRD\", \"geonameId\": 2275384}, {\"iso alpha2\": \"LS\", \"iso alpha3\": \"LSO\", \"iso numeric\": 426, \"fips code\": \"LT\", \"name\": \"Lesotho\", \"capital\": \"Maseru\", \"areaInSqKm\": 30355.0, \"population\": 2108132, \"continent\": \"Africa\", \"languages\": \"en-LS,st,zu,xh\", \"currency\": \"LSL\", \"geonameId\": 932692}, {\"iso alpha2\": \"LT\", \"iso alpha3\": \"LTU\", \"iso numeric\": 440, \"fips code\": \"LH\", \"name\": \"Lithuania\", \"capital\": \"Vilnius\", \"areaInSqKm\": 65200.0, \"population\": 2789533, \"continent\": \"Europe\", \"languages\": \"lt,ru,pl\", \"currency\": \"EUR\", \"geonameId\": 597427}, {\"iso alpha2\": \"LU\", \"iso alpha3\": \"LUX\", \"iso numeric\": 442, \"fips code\": \"LU\", \"name\": \"Luxembourg\", \"capital\": \"Luxembourg\", \"areaInSqKm\": 2586.0, \"population\": 607728, \"continent\": \"Europe\", \"languages\": \"lb,de-LU,fr-LU\", \"currency\": \"EUR\", \"geonameId\": 2960313}, {\"iso alpha2\": \"LV\", \"iso alpha3\": \"LVA\", \"iso numeric\": 428, \"fips code\": \"LG\", \"name\": \"Latvia\", \"capital\": \"Riga\", \"areaInSqKm\": 64589.0, \"population\": 1926542, \"continent\": \"Europe\", \"languages\": \"lv,ru,lt\", \"currency\": \"EUR\", \"geonameId\": 458258}, {\"iso alpha2\": \"LY\", \"iso alpha3\": \"LBY\", \"iso numeric\": 434, \"fips code\": \"LY\", \"name\": \"Libya\", \"capital\": \"Tripoli\", \"areaInSqKm\": 1759540.0, \"population\": 6678567, \"continent\": \"Africa\", \"languages\": \"ar-LY,it,en\", \"currency\": \"LYD\", \"geonameId\": 2215636}, {\"iso alpha2\": \"MA\", \"iso alpha3\": \"MAR\", \"iso numeric\": 504, \"fips code\": \"MO\", \"name\": \"Morocco\", \"capital\": \"Rabat\", \"areaInSqKm\": 446550.0, \"population\": 36029138, \"continent\": \"Africa\", \"languages\": \"ar-MA,ber,fr\", \"currency\": \"MAD\", \"geonameId\": 2542007}, {\"iso alpha2\": \"MC\", \"iso alpha3\": \"MCO\", \"iso numeric\": 492, \"fips code\": \"MN\", \"name\": \"Monaco\", \"capital\": \"Monaco\", \"areaInSqKm\": 1.95, \"population\": 38682, \"continent\": \"Europe\", \"languages\": \"fr-MC,en,it\", \"currency\": \"EUR\", \"geonameId\": 2993457}, {\"iso alpha2\": \"MD\", \"iso alpha3\": \"MDA\", \"iso numeric\": 498, \"fips code\": \"MD\", \"name\": \"Moldova\", \"capital\": \"Chi\\u0219in\\u0103u\", \"areaInSqKm\": 33843.0, \"population\": 3545883, \"continent\": \"Europe\", \"languages\": \"ro,ru,gag,tr\", \"currency\": \"MDL\", \"geonameId\": 617790}, {\"iso alpha2\": \"ME\", \"iso alpha3\": \"MNE\", \"iso numeric\": 499, \"fips code\": \"MJ\", \"name\": \"Montenegro\", \"capital\": \"Podgorica\", \"areaInSqKm\": 14026.0, \"population\": 622345, \"continent\": \"Europe\", \"languages\": \"sr,hu,bs,sq,hr,rom\", \"currency\": \"EUR\", \"geonameId\": 3194884}, {\"iso alpha2\": \"MF\", \"iso alpha3\": \"MAF\", \"iso numeric\": 663, \"fips code\": \"RN\", \"name\": \"Saint Martin\", \"capital\": \"Marigot\", \"areaInSqKm\": 53.0, \"population\": 37264, \"continent\": \"North America\", \"languages\": \"fr\", \"currency\": \"EUR\", \"geonameId\": 3578421}, {\"iso alpha2\": \"MG\", \"iso alpha3\": \"MDG\", \"iso numeric\": 450, \"fips code\": \"MA\", \"name\": \"Madagascar\", \"capital\": \"Antananarivo\", \"areaInSqKm\": 587040.0, \"population\": 26262368, \"continent\": \"Africa\", \"languages\": \"fr-MG,mg\", \"currency\": \"MGA\", \"geonameId\": 1062947}, {\"iso alpha2\": \"MH\", \"iso alpha3\": \"MHL\", \"iso numeric\": 584, \"fips code\": \"RM\", \"name\": \"Marshall Islands\", \"capital\": \"Majuro\", \"areaInSqKm\": 181.3, \"population\": 58413, \"continent\": \"Oceania\", \"languages\": \"mh,en-MH\", \"currency\": \"USD\", \"geonameId\": 2080185}, {\"iso alpha2\": \"MK\", \"iso alpha3\": \"MKD\", \"iso numeric\": 807, \"fips code\": \"MK\", \"name\": \"North Macedonia\", \"capital\": \"Skopje\", \"areaInSqKm\": 25333.0, \"population\": 2082958, \"continent\": \"Europe\", \"languages\": \"mk,sq,tr,rmm,sr\", \"currency\": \"MKD\", \"geonameId\": 718075}, {\"iso alpha2\": \"ML\", \"iso alpha3\": \"MLI\", \"iso numeric\": 466, \"fips code\": \"ML\", \"name\": \"Mali\", \"capital\": \"Bamako\", \"areaInSqKm\": 1240000.0, \"population\": 19077690, \"continent\": \"Africa\", \"languages\": \"fr-ML,bm\", \"currency\": \"XOF\", \"geonameId\": 2453866}, {\"iso alpha2\": \"MM\", \"iso alpha3\": \"MMR\", \"iso numeric\": 104, \"fips code\": \"BM\", \"name\": \"Myanmar\", \"capital\": \"Nay Pyi Taw\", \"areaInSqKm\": 678500.0, \"population\": 53708395, \"continent\": \"Asia\", \"languages\": \"my\", \"currency\": \"MMK\", \"geonameId\": 1327865}, {\"iso alpha2\": \"MN\", \"iso alpha3\": \"MNG\", \"iso numeric\": 496, \"fips code\": \"MG\", \"name\": \"Mongolia\", \"capital\": \"Ulaanbaatar\", \"areaInSqKm\": 1565000.0, \"population\": 3170208, \"continent\": \"Asia\", \"languages\": \"mn,ru\", \"currency\": \"MNT\", \"geonameId\": 2029969}, {\"iso alpha2\": \"MO\", \"iso alpha3\": \"MAC\", \"iso numeric\": 446, \"fips code\": \"MC\", \"name\": \"Macao\", \"capital\": \"Macao\", \"areaInSqKm\": 254.0, \"population\": 631636, \"continent\": \"Asia\", \"languages\": \"zh,zh-MO,pt\", \"currency\": \"MOP\", \"geonameId\": 1821275}, {\"iso alpha2\": \"MP\", \"iso alpha3\": \"MNP\", \"iso numeric\": 580, \"fips code\": \"CQ\", \"name\": \"Northern Mariana Islands\", \"capital\": \"Saipan\", \"areaInSqKm\": 477.0, \"population\": 56882, \"continent\": \"Oceania\", \"languages\": \"fil,tl,zh,ch-MP,en-MP\", \"currency\": \"USD\", \"geonameId\": 4041468}, {\"iso alpha2\": \"MQ\", \"iso alpha3\": \"MTQ\", \"iso numeric\": 474, \"fips code\": \"MB\", \"name\": \"Martinique\", \"capital\": \"Fort-de-France\", \"areaInSqKm\": 1100.0, \"population\": 432900, \"continent\": \"North America\", \"languages\": \"fr-MQ\", \"currency\": \"EUR\", \"geonameId\": 3570311}, {\"iso alpha2\": \"MR\", \"iso alpha3\": \"MRT\", \"iso numeric\": 478, \"fips code\": \"MR\", \"name\": \"Mauritania\", \"capital\": \"Nouakchott\", \"areaInSqKm\": 1030700.0, \"population\": 4403319, \"continent\": \"Africa\", \"languages\": \"ar-MR,fuc,snk,fr,mey,wo\", \"currency\": \"MRU\", \"geonameId\": 2378080}, {\"iso alpha2\": \"MS\", \"iso alpha3\": \"MSR\", \"iso numeric\": 500, \"fips code\": \"MH\", \"name\": \"Montserrat\", \"capital\": \"Plymouth\", \"areaInSqKm\": 102.0, \"population\": 9341, \"continent\": \"North America\", \"languages\": \"en-MS\", \"currency\": \"XCD\", \"geonameId\": 3578097}, {\"iso alpha2\": \"MT\", \"iso alpha3\": \"MLT\", \"iso numeric\": 470, \"fips code\": \"MT\", \"name\": \"Malta\", \"capital\": \"Valletta\", \"areaInSqKm\": 316.0, \"population\": 483530, \"continent\": \"Europe\", \"languages\": \"mt,en-MT\", \"currency\": \"EUR\", \"geonameId\": 2562770}, {\"iso alpha2\": \"MU\", \"iso alpha3\": \"MUS\", \"iso numeric\": 480, \"fips code\": \"MP\", \"name\": \"Mauritius\", \"capital\": \"Port Louis\", \"areaInSqKm\": 2040.0, \"population\": 1265303, \"continent\": \"Africa\", \"languages\": \"en-MU,bho,fr\", \"currency\": \"MUR\", \"geonameId\": 934292}, {\"iso alpha2\": \"MV\", \"iso alpha3\": \"MDV\", \"iso numeric\": 462, \"fips code\": \"MV\", \"name\": \"Maldives\", \"capital\": \"Mal\\u00e9\", \"areaInSqKm\": 300.0, \"population\": 515696, \"continent\": \"Asia\", \"languages\": \"dv,en\", \"currency\": \"MVR\", \"geonameId\": 1282028}, {\"iso alpha2\": \"MW\", \"iso alpha3\": \"MWI\", \"iso numeric\": 454, \"fips code\": \"MI\", \"name\": \"Malawi\", \"capital\": \"Lilongwe\", \"areaInSqKm\": 118480.0, \"population\": 17563749, \"continent\": \"Africa\", \"languages\": \"ny,yao,tum,swk\", \"currency\": \"MWK\", \"geonameId\": 927384}, {\"iso alpha2\": \"MX\", \"iso alpha3\": \"MEX\", \"iso numeric\": 484, \"fips code\": \"MX\", \"name\": \"Mexico\", \"capital\": \"Mexico City\", \"areaInSqKm\": 1972550.0, \"population\": 126190788, \"continent\": \"North America\", \"languages\": \"es-MX\", \"currency\": \"MXN\", \"geonameId\": 3996063}, {\"iso alpha2\": \"MY\", \"iso alpha3\": \"MYS\", \"iso numeric\": 458, \"fips code\": \"MY\", \"name\": \"Malaysia\", \"capital\": \"Kuala Lumpur\", \"areaInSqKm\": 329750.0, \"population\": 31528585, \"continent\": \"Asia\", \"languages\": \"ms-MY,en,zh,ta,te,ml,pa,th\", \"currency\": \"MYR\", \"geonameId\": 1733045}, {\"iso alpha2\": \"MZ\", \"iso alpha3\": \"MOZ\", \"iso numeric\": 508, \"fips code\": \"MZ\", \"name\": \"Mozambique\", \"capital\": \"Maputo\", \"areaInSqKm\": 801590.0, \"population\": 29495962, \"continent\": \"Africa\", \"languages\": \"pt-MZ,vmw\", \"currency\": \"MZN\", \"geonameId\": 1036973}, {\"iso alpha2\": \"NA\", \"iso alpha3\": \"NAM\", \"iso numeric\": 516, \"fips code\": \"WA\", \"name\": \"Namibia\", \"capital\": \"Windhoek\", \"areaInSqKm\": 825418.0, \"population\": 2448255, \"continent\": \"Africa\", \"languages\": \"en-NA,af,de,hz,naq\", \"currency\": \"NAD\", \"geonameId\": 3355338}, {\"iso alpha2\": \"NC\", \"iso alpha3\": \"NCL\", \"iso numeric\": 540, \"fips code\": \"NC\", \"name\": \"New Caledonia\", \"capital\": \"Noumea\", \"areaInSqKm\": 19060.0, \"population\": 284060, \"continent\": \"Oceania\", \"languages\": \"fr-NC\", \"currency\": \"XPF\", \"geonameId\": 2139685}, {\"iso alpha2\": \"NE\", \"iso alpha3\": \"NER\", \"iso numeric\": 562, \"fips code\": \"NG\", \"name\": \"Niger\", \"capital\": \"Niamey\", \"areaInSqKm\": 1267000.0, \"population\": 22442948, \"continent\": \"Africa\", \"languages\": \"fr-NE,ha,kr,dje\", \"currency\": \"XOF\", \"geonameId\": 2440476}, {\"iso alpha2\": \"NF\", \"iso alpha3\": \"NFK\", \"iso numeric\": 574, \"fips code\": \"NF\", \"name\": \"Norfolk Island\", \"capital\": \"Kingston\", \"areaInSqKm\": 34.6, \"population\": 1828, \"continent\": \"Oceania\", \"languages\": \"en-NF\", \"currency\": \"AUD\", \"geonameId\": 2155115}, {\"iso alpha2\": \"NG\", \"iso alpha3\": \"NGA\", \"iso numeric\": 566, \"fips code\": \"NI\", \"name\": \"Nigeria\", \"capital\": \"Abuja\", \"areaInSqKm\": 923768.0, \"population\": 195874740, \"continent\": \"Africa\", \"languages\": \"en-NG,ha,yo,ig,ff\", \"currency\": \"NGN\", \"geonameId\": 2328926}, {\"iso alpha2\": \"NI\", \"iso alpha3\": \"NIC\", \"iso numeric\": 558, \"fips code\": \"NU\", \"name\": \"Nicaragua\", \"capital\": \"Managua\", \"areaInSqKm\": 129494.0, \"population\": 6465513, \"continent\": \"North America\", \"languages\": \"es-NI,en\", \"currency\": \"NIO\", \"geonameId\": 3617476}, {\"iso alpha2\": \"NL\", \"iso alpha3\": \"NLD\", \"iso numeric\": 528, \"fips code\": \"NL\", \"name\": \"Netherlands\", \"capital\": \"Amsterdam\", \"areaInSqKm\": 41526.0, \"population\": 17231017, \"continent\": \"Europe\", \"languages\": \"nl-NL,fy-NL\", \"currency\": \"EUR\", \"geonameId\": 2750405}, {\"iso alpha2\": \"NO\", \"iso alpha3\": \"NOR\", \"iso numeric\": 578, \"fips code\": \"NO\", \"name\": \"Norway\", \"capital\": \"Oslo\", \"areaInSqKm\": 324220.0, \"population\": 5314336, \"continent\": \"Europe\", \"languages\": \"no,nb,nn,se,fi\", \"currency\": \"NOK\", \"geonameId\": 3144096}, {\"iso alpha2\": \"NP\", \"iso alpha3\": \"NPL\", \"iso numeric\": 524, \"fips code\": \"NP\", \"name\": \"Nepal\", \"capital\": \"Kathmandu\", \"areaInSqKm\": 140800.0, \"population\": 28087871, \"continent\": \"Asia\", \"languages\": \"ne,en\", \"currency\": \"NPR\", \"geonameId\": 1282988}, {\"iso alpha2\": \"NR\", \"iso alpha3\": \"NRU\", \"iso numeric\": 520, \"fips code\": \"NR\", \"name\": \"Nauru\", \"capital\": \"Yaren District\", \"areaInSqKm\": 21.0, \"population\": 12704, \"continent\": \"Oceania\", \"languages\": \"na,en-NR\", \"currency\": \"AUD\", \"geonameId\": 2110425}, {\"iso alpha2\": \"NU\", \"iso alpha3\": \"NIU\", \"iso numeric\": 570, \"fips code\": \"NE\", \"name\": \"Niue\", \"capital\": \"Alofi\", \"areaInSqKm\": 260.0, \"population\": 2166, \"continent\": \"Oceania\", \"languages\": \"niu,en-NU\", \"currency\": \"NZD\", \"geonameId\": 4036232}, {\"iso alpha2\": \"NZ\", \"iso alpha3\": \"NZL\", \"iso numeric\": 554, \"fips code\": \"NZ\", \"name\": \"New Zealand\", \"capital\": \"Wellington\", \"areaInSqKm\": 268680.0, \"population\": 4885500, \"continent\": \"Oceania\", \"languages\": \"en-NZ,mi\", \"currency\": \"NZD\", \"geonameId\": 2186224}, {\"iso alpha2\": \"OM\", \"iso alpha3\": \"OMN\", \"iso numeric\": 512, \"fips code\": \"MU\", \"name\": \"Oman\", \"capital\": \"Muscat\", \"areaInSqKm\": 212460.0, \"population\": 4829483, \"continent\": \"Asia\", \"languages\": \"ar-OM,en,bal,ur\", \"currency\": \"OMR\", \"geonameId\": 286963}, {\"iso alpha2\": \"PA\", \"iso alpha3\": \"PAN\", \"iso numeric\": 591, \"fips code\": \"PM\", \"name\": \"Panama\", \"capital\": \"Panama City\", \"areaInSqKm\": 78200.0, \"population\": 4176873, \"continent\": \"North America\", \"languages\": \"es-PA,en\", \"currency\": \"PAB\", \"geonameId\": 3703430}, {\"iso alpha2\": \"PE\", \"iso alpha3\": \"PER\", \"iso numeric\": 604, \"fips code\": \"PE\", \"name\": \"Peru\", \"capital\": \"Lima\", \"areaInSqKm\": 1285220.0, \"population\": 31989256, \"continent\": \"South America\", \"languages\": \"es-PE,qu,ay\", \"currency\": \"PEN\", \"geonameId\": 3932488}, {\"iso alpha2\": \"PF\", \"iso alpha3\": \"PYF\", \"iso numeric\": 258, \"fips code\": \"FP\", \"name\": \"French Polynesia\", \"capital\": \"Papeete\", \"areaInSqKm\": 4167.0, \"population\": 277679, \"continent\": \"Oceania\", \"languages\": \"fr-PF,ty\", \"currency\": \"XPF\", \"geonameId\": 4030656}, {\"iso alpha2\": \"PG\", \"iso alpha3\": \"PNG\", \"iso numeric\": 598, \"fips code\": \"PP\", \"name\": \"Papua New Guinea\", \"capital\": \"Port Moresby\", \"areaInSqKm\": 462840.0, \"population\": 8606316, \"continent\": \"Oceania\", \"languages\": \"en-PG,ho,meu,tpi\", \"currency\": \"PGK\", \"geonameId\": 2088628}, {\"iso alpha2\": \"PH\", \"iso alpha3\": \"PHL\", \"iso numeric\": 608, \"fips code\": \"RP\", \"name\": \"Philippines\", \"capital\": \"Manila\", \"areaInSqKm\": 300000.0, \"population\": 106651922, \"continent\": \"Asia\", \"languages\": \"tl,en-PH,fil,ceb,ilo,hil,war,pam,bik,bcl,pag,mrw,tsg,mdh,cbk,krj,sgd,msb,akl,ibg,yka,mta,abx\", \"currency\": \"PHP\", \"geonameId\": 1694008}, {\"iso alpha2\": \"PK\", \"iso alpha3\": \"PAK\", \"iso numeric\": 586, \"fips code\": \"PK\", \"name\": \"Pakistan\", \"capital\": \"Islamabad\", \"areaInSqKm\": 803940.0, \"population\": 212215030, \"continent\": \"Asia\", \"languages\": \"ur-PK,en-PK,pa,sd,ps,brh\", \"currency\": \"PKR\", \"geonameId\": 1168579}, {\"iso alpha2\": \"PL\", \"iso alpha3\": \"POL\", \"iso numeric\": 616, \"fips code\": \"PL\", \"name\": \"Poland\", \"capital\": \"Warsaw\", \"areaInSqKm\": 312685.0, \"population\": 37978548, \"continent\": \"Europe\", \"languages\": \"pl\", \"currency\": \"PLN\", \"geonameId\": 798544}, {\"iso alpha2\": \"PM\", \"iso alpha3\": \"SPM\", \"iso numeric\": 666, \"fips code\": \"SB\", \"name\": \"Saint Pierre and Miquelon\", \"capital\": \"Saint-Pierre\", \"areaInSqKm\": 242.0, \"population\": 7012, \"continent\": \"North America\", \"languages\": \"fr-PM\", \"currency\": \"EUR\", \"geonameId\": 3424932}, {\"iso alpha2\": \"PN\", \"iso alpha3\": \"PCN\", \"iso numeric\": 612, \"fips code\": \"PC\", \"name\": \"Pitcairn Islands\", \"capital\": \"Adamstown\", \"areaInSqKm\": 47.0, \"population\": 46, \"continent\": \"Oceania\", \"languages\": \"en-PN\", \"currency\": \"NZD\", \"geonameId\": 4030699}, {\"iso alpha2\": \"PR\", \"iso alpha3\": \"PRI\", \"iso numeric\": 630, \"fips code\": \"RQ\", \"name\": \"Puerto Rico\", \"capital\": \"San Juan\", \"areaInSqKm\": 9104.0, \"population\": 3195153, \"continent\": \"North America\", \"languages\": \"en-PR,es-PR\", \"currency\": \"USD\", \"geonameId\": 4566966}, {\"iso alpha2\": \"PS\", \"iso alpha3\": \"PSE\", \"iso numeric\": 275, \"fips code\": \"WE\", \"name\": \"Palestine\", \"capital\": \"\", \"areaInSqKm\": 5970.0, \"population\": 4569087, \"continent\": \"Asia\", \"languages\": \"ar-PS\", \"currency\": \"ILS\", \"geonameId\": 6254930}, {\"iso alpha2\": \"PT\", \"iso alpha3\": \"PRT\", \"iso numeric\": 620, \"fips code\": \"PO\", \"name\": \"Portugal\", \"capital\": \"Lisbon\", \"areaInSqKm\": 92391.0, \"population\": 10281762, \"continent\": \"Europe\", \"languages\": \"pt-PT,mwl\", \"currency\": \"EUR\", \"geonameId\": 2264397}, {\"iso alpha2\": \"PW\", \"iso alpha3\": \"PLW\", \"iso numeric\": 585, \"fips code\": \"PS\", \"name\": \"Palau\", \"capital\": \"Ngerulmud\", \"areaInSqKm\": 458.0, \"population\": 17907, \"continent\": \"Oceania\", \"languages\": \"pau,sov,en-PW,tox,ja,fil,zh\", \"currency\": \"USD\", \"geonameId\": 1559582}, {\"iso alpha2\": \"PY\", \"iso alpha3\": \"PRY\", \"iso numeric\": 600, \"fips code\": \"PA\", \"name\": \"Paraguay\", \"capital\": \"Asunci\\u00f3n\", \"areaInSqKm\": 406750.0, \"population\": 6956071, \"continent\": \"South America\", \"languages\": \"es-PY,gn\", \"currency\": \"PYG\", \"geonameId\": 3437598}, {\"iso alpha2\": \"QA\", \"iso alpha3\": \"QAT\", \"iso numeric\": 634, \"fips code\": \"QA\", \"name\": \"Qatar\", \"capital\": \"Doha\", \"areaInSqKm\": 11437.0, \"population\": 2781677, \"continent\": \"Asia\", \"languages\": \"ar-QA,es\", \"currency\": \"QAR\", \"geonameId\": 289688}, {\"iso alpha2\": \"RE\", \"iso alpha3\": \"REU\", \"iso numeric\": 638, \"fips code\": \"RE\", \"name\": \"R\\u00e9union\", \"capital\": \"Saint-Denis\", \"areaInSqKm\": 2517.0, \"population\": 776948, \"continent\": \"Africa\", \"languages\": \"fr-RE\", \"currency\": \"EUR\", \"geonameId\": 935317}, {\"iso alpha2\": \"RO\", \"iso alpha3\": \"ROU\", \"iso numeric\": 642, \"fips code\": \"RO\", \"name\": \"Romania\", \"capital\": \"Bucharest\", \"areaInSqKm\": 237500.0, \"population\": 19473936, \"continent\": \"Europe\", \"languages\": \"ro,hu,rom\", \"currency\": \"RON\", \"geonameId\": 798549}, {\"iso alpha2\": \"RS\", \"iso alpha3\": \"SRB\", \"iso numeric\": 688, \"fips code\": \"RI\", \"name\": \"Serbia\", \"capital\": \"Belgrade\", \"areaInSqKm\": 88361.0, \"population\": 6982084, \"continent\": \"Europe\", \"languages\": \"sr,hu,bs,rom\", \"currency\": \"RSD\", \"geonameId\": 6290252}, {\"iso alpha2\": \"RU\", \"iso alpha3\": \"RUS\", \"iso numeric\": 643, \"fips code\": \"RS\", \"name\": \"Russia\", \"capital\": \"Moscow\", \"areaInSqKm\": 17100000.0, \"population\": 144478050, \"continent\": \"Europe\", \"languages\": \"ru,tt,xal,cau,ady,kv,ce,tyv,cv,udm,tut,mns,bua,myv,mdf,chm,ba,inh,kbd,krc,av,sah,nog\", \"currency\": \"RUB\", \"geonameId\": 2017370}, {\"iso alpha2\": \"RW\", \"iso alpha3\": \"RWA\", \"iso numeric\": 646, \"fips code\": \"RW\", \"name\": \"Rwanda\", \"capital\": \"Kigali\", \"areaInSqKm\": 26338.0, \"population\": 12301939, \"continent\": \"Africa\", \"languages\": \"rw,en-RW,fr-RW,sw\", \"currency\": \"RWF\", \"geonameId\": 49518}, {\"iso alpha2\": \"SA\", \"iso alpha3\": \"SAU\", \"iso numeric\": 682, \"fips code\": \"SA\", \"name\": \"Saudi Arabia\", \"capital\": \"Riyadh\", \"areaInSqKm\": 1960582.0, \"population\": 33699947, \"continent\": \"Asia\", \"languages\": \"ar-SA\", \"currency\": \"SAR\", \"geonameId\": 102358}, {\"iso alpha2\": \"SB\", \"iso alpha3\": \"SLB\", \"iso numeric\": 90, \"fips code\": \"BP\", \"name\": \"Solomon Islands\", \"capital\": \"Honiara\", \"areaInSqKm\": 28450.0, \"population\": 652858, \"continent\": \"Oceania\", \"languages\": \"en-SB,tpi\", \"currency\": \"SBD\", \"geonameId\": 2103350}, {\"iso alpha2\": \"SC\", \"iso alpha3\": \"SYC\", \"iso numeric\": 690, \"fips code\": \"SE\", \"name\": \"Seychelles\", \"capital\": \"Victoria\", \"areaInSqKm\": 455.0, \"population\": 96762, \"continent\": \"Africa\", \"languages\": \"en-SC,fr-SC\", \"currency\": \"SCR\", \"geonameId\": 241170}, {\"iso alpha2\": \"SD\", \"iso alpha3\": \"SDN\", \"iso numeric\": 729, \"fips code\": \"SU\", \"name\": \"Sudan\", \"capital\": \"Khartoum\", \"areaInSqKm\": 1861484.0, \"population\": 41801533, \"continent\": \"Africa\", \"languages\": \"ar-SD,en,fia\", \"currency\": \"SDG\", \"geonameId\": 366755}, {\"iso alpha2\": \"SE\", \"iso alpha3\": \"SWE\", \"iso numeric\": 752, \"fips code\": \"SW\", \"name\": \"Sweden\", \"capital\": \"Stockholm\", \"areaInSqKm\": 449964.0, \"population\": 10183175, \"continent\": \"Europe\", \"languages\": \"sv-SE,se,sma,fi-SE\", \"currency\": \"SEK\", \"geonameId\": 2661886}, {\"iso alpha2\": \"SG\", \"iso alpha3\": \"SGP\", \"iso numeric\": 702, \"fips code\": \"SN\", \"name\": \"Singapore\", \"capital\": \"Singapore\", \"areaInSqKm\": 692.7, \"population\": 5638676, \"continent\": \"Asia\", \"languages\": \"cmn,en-SG,ms-SG,ta-SG,zh-SG\", \"currency\": \"SGD\", \"geonameId\": 1880251}, {\"iso alpha2\": \"SH\", \"iso alpha3\": \"SHN\", \"iso numeric\": 654, \"fips code\": \"SH\", \"name\": \"Saint Helena\", \"capital\": \"Jamestown\", \"areaInSqKm\": 410.0, \"population\": 7460, \"continent\": \"Africa\", \"languages\": \"en-SH\", \"currency\": \"SHP\", \"geonameId\": 3370751}, {\"iso alpha2\": \"SI\", \"iso alpha3\": \"SVN\", \"iso numeric\": 705, \"fips code\": \"SI\", \"name\": \"Slovenia\", \"capital\": \"Ljubljana\", \"areaInSqKm\": 20273.0, \"population\": 2067372, \"continent\": \"Europe\", \"languages\": \"sl,sh\", \"currency\": \"EUR\", \"geonameId\": 3190538}, {\"iso alpha2\": \"SJ\", \"iso alpha3\": \"SJM\", \"iso numeric\": 744, \"fips code\": \"SV\", \"name\": \"Svalbard and Jan Mayen\", \"capital\": \"Longyearbyen\", \"areaInSqKm\": 62049.0, \"population\": 2550, \"continent\": \"Europe\", \"languages\": \"no,ru\", \"currency\": \"NOK\", \"geonameId\": 607072}, {\"iso alpha2\": \"SK\", \"iso alpha3\": \"SVK\", \"iso numeric\": 703, \"fips code\": \"LO\", \"name\": \"Slovakia\", \"capital\": \"Bratislava\", \"areaInSqKm\": 48845.0, \"population\": 5447011, \"continent\": \"Europe\", \"languages\": \"sk,hu\", \"currency\": \"EUR\", \"geonameId\": 3057568}, {\"iso alpha2\": \"SL\", \"iso alpha3\": \"SLE\", \"iso numeric\": 694, \"fips code\": \"SL\", \"name\": \"Sierra Leone\", \"capital\": \"Freetown\", \"areaInSqKm\": 71740.0, \"population\": 7650154, \"continent\": \"Africa\", \"languages\": \"en-SL,men,tem\", \"currency\": \"SLL\", \"geonameId\": 2403846}, {\"iso alpha2\": \"SM\", \"iso alpha3\": \"SMR\", \"iso numeric\": 674, \"fips code\": \"SM\", \"name\": \"San Marino\", \"capital\": \"San Marino\", \"areaInSqKm\": 61.2, \"population\": 33785, \"continent\": \"Europe\", \"languages\": \"it-SM\", \"currency\": \"EUR\", \"geonameId\": 3168068}, {\"iso alpha2\": \"SN\", \"iso alpha3\": \"SEN\", \"iso numeric\": 686, \"fips code\": \"SG\", \"name\": \"Senegal\", \"capital\": \"Dakar\", \"areaInSqKm\": 196190.0, \"population\": 15854360, \"continent\": \"Africa\", \"languages\": \"fr-SN,wo,fuc,mnk\", \"currency\": \"XOF\", \"geonameId\": 2245662}, {\"iso alpha2\": \"SO\", \"iso alpha3\": \"SOM\", \"iso numeric\": 706, \"fips code\": \"SO\", \"name\": \"Somalia\", \"capital\": \"Mogadishu\", \"areaInSqKm\": 637657.0, \"population\": 15008154, \"continent\": \"Africa\", \"languages\": \"so-SO,ar-SO,it,en-SO\", \"currency\": \"SOS\", \"geonameId\": 51537}, {\"iso alpha2\": \"SR\", \"iso alpha3\": \"SUR\", \"iso numeric\": 740, \"fips code\": \"NS\", \"name\": \"Suriname\", \"capital\": \"Paramaribo\", \"areaInSqKm\": 163270.0, \"population\": 575991, \"continent\": \"South America\", \"languages\": \"nl-SR,en,srn,hns,jv\", \"currency\": \"SRD\", \"geonameId\": 3382998}, {\"iso alpha2\": \"SS\", \"iso alpha3\": \"SSD\", \"iso numeric\": 728, \"fips code\": \"OD\", \"name\": \"South Sudan\", \"capital\": \"Juba\", \"areaInSqKm\": 644329.0, \"population\": 8260490, \"continent\": \"Africa\", \"languages\": \"en\", \"currency\": \"SSP\", \"geonameId\": 7909807}, {\"iso alpha2\": \"ST\", \"iso alpha3\": \"STP\", \"iso numeric\": 678, \"fips code\": \"TP\", \"name\": \"S\\u00e3o Tom\\u00e9 and Pr\\u00edncipe\", \"capital\": \"S\\u00e3o Tom\\u00e9\", \"areaInSqKm\": 1001.0, \"population\": 197700, \"continent\": \"Africa\", \"languages\": \"pt-ST\", \"currency\": \"STN\", \"geonameId\": 2410758}, {\"iso alpha2\": \"SV\", \"iso alpha3\": \"SLV\", \"iso numeric\": 222, \"fips code\": \"ES\", \"name\": \"El Salvador\", \"capital\": \"San Salvador\", \"areaInSqKm\": 21040.0, \"population\": 6420744, \"continent\": \"North America\", \"languages\": \"es-SV\", \"currency\": \"USD\", \"geonameId\": 3585968}, {\"iso alpha2\": \"SX\", \"iso alpha3\": \"SXM\", \"iso numeric\": 534, \"fips code\": \"NN\", \"name\": \"Sint Maarten\", \"capital\": \"Philipsburg\", \"areaInSqKm\": 21.0, \"population\": 40654, \"continent\": \"North America\", \"languages\": \"nl,en\", \"currency\": \"ANG\", \"geonameId\": 7609695}, {\"iso alpha2\": \"SY\", \"iso alpha3\": \"SYR\", \"iso numeric\": 760, \"fips code\": \"SY\", \"name\": \"Syria\", \"capital\": \"Damascus\", \"areaInSqKm\": 185180.0, \"population\": 16906283, \"continent\": \"Asia\", \"languages\": \"ar-SY,ku,hy,arc,fr,en\", \"currency\": \"SYP\", \"geonameId\": 163843}, {\"iso alpha2\": \"SZ\", \"iso alpha3\": \"SWZ\", \"iso numeric\": 748, \"fips code\": \"WZ\", \"name\": \"Eswatini\", \"capital\": \"Mbabane\", \"areaInSqKm\": 17363.0, \"population\": 1136191, \"continent\": \"Africa\", \"languages\": \"en-SZ,ss-SZ\", \"currency\": \"SZL\", \"geonameId\": 934841}, {\"iso alpha2\": \"TC\", \"iso alpha3\": \"TCA\", \"iso numeric\": 796, \"fips code\": \"TK\", \"name\": \"Turks and Caicos Islands\", \"capital\": \"Cockburn Town\", \"areaInSqKm\": 430.0, \"population\": 37665, \"continent\": \"North America\", \"languages\": \"en-TC\", \"currency\": \"USD\", \"geonameId\": 3576916}, {\"iso alpha2\": \"TD\", \"iso alpha3\": \"TCD\", \"iso numeric\": 148, \"fips code\": \"CD\", \"name\": \"Chad\", \"capital\": \"N'Djamena\", \"areaInSqKm\": 1284000.0, \"population\": 15477751, \"continent\": \"Africa\", \"languages\": \"fr-TD,ar-TD,sre\", \"currency\": \"XAF\", \"geonameId\": 2434508}, {\"iso alpha2\": \"TF\", \"iso alpha3\": \"ATF\", \"iso numeric\": 260, \"fips code\": \"FS\", \"name\": \"French Southern Territories\", \"capital\": \"Port-aux-Fran\\u00e7ais\", \"areaInSqKm\": 7829.0, \"population\": 140, \"continent\": \"Antarctica\", \"languages\": \"fr\", \"currency\": \"EUR\", \"geonameId\": 1546748}, {\"iso alpha2\": \"TG\", \"iso alpha3\": \"TGO\", \"iso numeric\": 768, \"fips code\": \"TO\", \"name\": \"Togo\", \"capital\": \"Lom\\u00e9\", \"areaInSqKm\": 56785.0, \"population\": 7889094, \"continent\": \"Africa\", \"languages\": \"fr-TG,ee,hna,kbp,dag,ha\", \"currency\": \"XOF\", \"geonameId\": 2363686}, {\"iso alpha2\": \"TH\", \"iso alpha3\": \"THA\", \"iso numeric\": 764, \"fips code\": \"TH\", \"name\": \"Thailand\", \"capital\": \"Bangkok\", \"areaInSqKm\": 514000.0, \"population\": 69428524, \"continent\": \"Asia\", \"languages\": \"th,en\", \"currency\": \"THB\", \"geonameId\": 1605651}, {\"iso alpha2\": \"TJ\", \"iso alpha3\": \"TJK\", \"iso numeric\": 762, \"fips code\": \"TI\", \"name\": \"Tajikistan\", \"capital\": \"Dushanbe\", \"areaInSqKm\": 143100.0, \"population\": 9100837, \"continent\": \"Asia\", \"languages\": \"tg,ru\", \"currency\": \"TJS\", \"geonameId\": 1220409}, {\"iso alpha2\": \"TK\", \"iso alpha3\": \"TKL\", \"iso numeric\": 772, \"fips code\": \"TL\", \"name\": \"Tokelau\", \"capital\": \"\", \"areaInSqKm\": 10.0, \"population\": 1466, \"continent\": \"Oceania\", \"languages\": \"tkl,en-TK\", \"currency\": \"NZD\", \"geonameId\": 4031074}, {\"iso alpha2\": \"TL\", \"iso alpha3\": \"TLS\", \"iso numeric\": 626, \"fips code\": \"TT\", \"name\": \"Timor-Leste\", \"capital\": \"Dili\", \"areaInSqKm\": 15007.0, \"population\": 1267972, \"continent\": \"Oceania\", \"languages\": \"tet,pt-TL,id,en\", \"currency\": \"USD\", \"geonameId\": 1966436}, {\"iso alpha2\": \"TM\", \"iso alpha3\": \"TKM\", \"iso numeric\": 795, \"fips code\": \"TX\", \"name\": \"Turkmenistan\", \"capital\": \"Ashgabat\", \"areaInSqKm\": 488100.0, \"population\": 5850908, \"continent\": \"Asia\", \"languages\": \"tk,ru,uz\", \"currency\": \"TMT\", \"geonameId\": 1218197}, {\"iso alpha2\": \"TN\", \"iso alpha3\": \"TUN\", \"iso numeric\": 788, \"fips code\": \"TS\", \"name\": \"Tunisia\", \"capital\": \"Tunis\", \"areaInSqKm\": 163610.0, \"population\": 11565204, \"continent\": \"Africa\", \"languages\": \"ar-TN,fr\", \"currency\": \"TND\", \"geonameId\": 2464461}, {\"iso alpha2\": \"TO\", \"iso alpha3\": \"TON\", \"iso numeric\": 776, \"fips code\": \"TN\", \"name\": \"Tonga\", \"capital\": \"Nuku'alofa\", \"areaInSqKm\": 748.0, \"population\": 103197, \"continent\": \"Oceania\", \"languages\": \"to,en-TO\", \"currency\": \"TOP\", \"geonameId\": 4032283}, {\"iso alpha2\": \"TR\", \"iso alpha3\": \"TUR\", \"iso numeric\": 792, \"fips code\": \"TU\", \"name\": \"Turkey\", \"capital\": \"Ankara\", \"areaInSqKm\": 780580.0, \"population\": 82319724, \"continent\": \"Asia\", \"languages\": \"tr-TR,ku,diq,az,av\", \"currency\": \"TRY\", \"geonameId\": 298795}, {\"iso alpha2\": \"TT\", \"iso alpha3\": \"TTO\", \"iso numeric\": 780, \"fips code\": \"TD\", \"name\": \"Trinidad and Tobago\", \"capital\": \"Port of Spain\", \"areaInSqKm\": 5128.0, \"population\": 1389858, \"continent\": \"North America\", \"languages\": \"en-TT,hns,fr,es,zh\", \"currency\": \"TTD\", \"geonameId\": 3573591}, {\"iso alpha2\": \"TV\", \"iso alpha3\": \"TUV\", \"iso numeric\": 798, \"fips code\": \"TV\", \"name\": \"Tuvalu\", \"capital\": \"Funafuti\", \"areaInSqKm\": 26.0, \"population\": 11508, \"continent\": \"Oceania\", \"languages\": \"tvl,en,sm,gil\", \"currency\": \"AUD\", \"geonameId\": 2110297}, {\"iso alpha2\": \"TW\", \"iso alpha3\": \"TWN\", \"iso numeric\": 158, \"fips code\": \"TW\", \"name\": \"Taiwan\", \"capital\": \"Taipei\", \"areaInSqKm\": 35980.0, \"population\": 23451837, \"continent\": \"Asia\", \"languages\": \"zh-TW,zh,nan,hak\", \"currency\": \"TWD\", \"geonameId\": 1668284}, {\"iso alpha2\": \"TZ\", \"iso alpha3\": \"TZA\", \"iso numeric\": 834, \"fips code\": \"TZ\", \"name\": \"Tanzania\", \"capital\": \"Dodoma\", \"areaInSqKm\": 945087.0, \"population\": 56318348, \"continent\": \"Africa\", \"languages\": \"sw-TZ,en,ar\", \"currency\": \"TZS\", \"geonameId\": 149590}, {\"iso alpha2\": \"UA\", \"iso alpha3\": \"UKR\", \"iso numeric\": 804, \"fips code\": \"UP\", \"name\": \"Ukraine\", \"capital\": \"Kyiv\", \"areaInSqKm\": 603700.0, \"population\": 44622516, \"continent\": \"Europe\", \"languages\": \"uk,ru-UA,rom,pl,hu\", \"currency\": \"UAH\", \"geonameId\": 690791}, {\"iso alpha2\": \"UG\", \"iso alpha3\": \"UGA\", \"iso numeric\": 800, \"fips code\": \"UG\", \"name\": \"Uganda\", \"capital\": \"Kampala\", \"areaInSqKm\": 236040.0, \"population\": 42723139, \"continent\": \"Africa\", \"languages\": \"en-UG,lg,sw,ar\", \"currency\": \"UGX\", \"geonameId\": 226074}, {\"iso alpha2\": \"UM\", \"iso alpha3\": \"UMI\", \"iso numeric\": 581, \"fips code\": \"\", \"name\": \"U.S. Outlying Islands\", \"capital\": \"\", \"areaInSqKm\": 0.0, \"population\": 0, \"continent\": \"Oceania\", \"languages\": \"en-UM\", \"currency\": \"USD\", \"geonameId\": 5854968}, {\"iso alpha2\": \"US\", \"iso alpha3\": \"USA\", \"iso numeric\": 840, \"fips code\": \"US\", \"name\": \"United States\", \"capital\": \"Washington\", \"areaInSqKm\": 9629091.0, \"population\": 327167434, \"continent\": \"North America\", \"languages\": \"en-US,es-US,haw,fr\", \"currency\": \"USD\", \"geonameId\": 6252001}, {\"iso alpha2\": \"UY\", \"iso alpha3\": \"URY\", \"iso numeric\": 858, \"fips code\": \"UY\", \"name\": \"Uruguay\", \"capital\": \"Montevideo\", \"areaInSqKm\": 176220.0, \"population\": 3449299, \"continent\": \"South America\", \"languages\": \"es-UY\", \"currency\": \"UYU\", \"geonameId\": 3439705}, {\"iso alpha2\": \"UZ\", \"iso alpha3\": \"UZB\", \"iso numeric\": 860, \"fips code\": \"UZ\", \"name\": \"Uzbekistan\", \"capital\": \"Tashkent\", \"areaInSqKm\": 447400.0, \"population\": 32955400, \"continent\": \"Asia\", \"languages\": \"uz,ru,tg\", \"currency\": \"UZS\", \"geonameId\": 1512440}, {\"iso alpha2\": \"VA\", \"iso alpha3\": \"VAT\", \"iso numeric\": 336, \"fips code\": \"VT\", \"name\": \"Vatican City\", \"capital\": \"Vatican City\", \"areaInSqKm\": 0.44, \"population\": 921, \"continent\": \"Europe\", \"languages\": \"la,it,fr\", \"currency\": \"EUR\", \"geonameId\": 3164670}, {\"iso alpha2\": \"VC\", \"iso alpha3\": \"VCT\", \"iso numeric\": 670, \"fips code\": \"VC\", \"name\": \"St Vincent and Grenadines\", \"capital\": \"Kingstown\", \"areaInSqKm\": 389.0, \"population\": 110211, \"continent\": \"North America\", \"languages\": \"en-VC,fr\", \"currency\": \"XCD\", \"geonameId\": 3577815}, {\"iso alpha2\": \"VE\", \"iso alpha3\": \"VEN\", \"iso numeric\": 862, \"fips code\": \"VE\", \"name\": \"Venezuela\", \"capital\": \"Caracas\", \"areaInSqKm\": 912050.0, \"population\": 28870195, \"continent\": \"South America\", \"languages\": \"es-VE\", \"currency\": \"VES\", \"geonameId\": 3625428}, {\"iso alpha2\": \"VG\", \"iso alpha3\": \"VGB\", \"iso numeric\": 92, \"fips code\": \"VI\", \"name\": \"British Virgin Islands\", \"capital\": \"Road Town\", \"areaInSqKm\": 153.0, \"population\": 29802, \"continent\": \"North America\", \"languages\": \"en-VG\", \"currency\": \"USD\", \"geonameId\": 3577718}, {\"iso alpha2\": \"VI\", \"iso alpha3\": \"VIR\", \"iso numeric\": 850, \"fips code\": \"VQ\", \"name\": \"U.S. Virgin Islands\", \"capital\": \"Charlotte Amalie\", \"areaInSqKm\": 352.0, \"population\": 106977, \"continent\": \"North America\", \"languages\": \"en-VI\", \"currency\": \"USD\", \"geonameId\": 4796775}, {\"iso alpha2\": \"VN\", \"iso alpha3\": \"VNM\", \"iso numeric\": 704, \"fips code\": \"VM\", \"name\": \"Vietnam\", \"capital\": \"Hanoi\", \"areaInSqKm\": 329560.0, \"population\": 95540395, \"continent\": \"Asia\", \"languages\": \"vi,en,fr,zh,km\", \"currency\": \"VND\", \"geonameId\": 1562822}, {\"iso alpha2\": \"VU\", \"iso alpha3\": \"VUT\", \"iso numeric\": 548, \"fips code\": \"NH\", \"name\": \"Vanuatu\", \"capital\": \"Port Vila\", \"areaInSqKm\": 12200.0, \"population\": 292680, \"continent\": \"Oceania\", \"languages\": \"bi,en-VU,fr-VU\", \"currency\": \"VUV\", \"geonameId\": 2134431}, {\"iso alpha2\": \"WF\", \"iso alpha3\": \"WLF\", \"iso numeric\": 876, \"fips code\": \"WF\", \"name\": \"Wallis and Futuna\", \"capital\": \"Mata-Utu\", \"areaInSqKm\": 274.0, \"population\": 16025, \"continent\": \"Oceania\", \"languages\": \"wls,fud,fr-WF\", \"currency\": \"XPF\", \"geonameId\": 4034749}, {\"iso alpha2\": \"WS\", \"iso alpha3\": \"WSM\", \"iso numeric\": 882, \"fips code\": \"WS\", \"name\": \"Samoa\", \"capital\": \"Apia\", \"areaInSqKm\": 2944.0, \"population\": 196130, \"continent\": \"Oceania\", \"languages\": \"sm,en-WS\", \"currency\": \"WST\", \"geonameId\": 4034894}, {\"iso alpha2\": \"XK\", \"iso alpha3\": \"XKX\", \"iso numeric\": 0, \"fips code\": \"KV\", \"name\": \"Kosovo\", \"capital\": \"Pristina\", \"areaInSqKm\": 10908.0, \"population\": 1845300, \"continent\": \"Europe\", \"languages\": \"sq,sr\", \"currency\": \"EUR\", \"geonameId\": 831053}, {\"iso alpha2\": \"YE\", \"iso alpha3\": \"YEM\", \"iso numeric\": 887, \"fips code\": \"YM\", \"name\": \"Yemen\", \"capital\": \"Sanaa\", \"areaInSqKm\": 527970.0, \"population\": 28498687, \"continent\": \"Asia\", \"languages\": \"ar-YE\", \"currency\": \"YER\", \"geonameId\": 69543}, {\"iso alpha2\": \"YT\", \"iso alpha3\": \"MYT\", \"iso numeric\": 175, \"fips code\": \"MF\", \"name\": \"Mayotte\", \"capital\": \"Mamoudzou\", \"areaInSqKm\": 374.0, \"population\": 279471, \"continent\": \"Africa\", \"languages\": \"fr-YT\", \"currency\": \"EUR\", \"geonameId\": 1024031}, {\"iso alpha2\": \"ZA\", \"iso alpha3\": \"ZAF\", \"iso numeric\": 710, \"fips code\": \"SF\", \"name\": \"South Africa\", \"capital\": \"Pretoria\", \"areaInSqKm\": 1219912.0, \"population\": 57779622, \"continent\": \"Africa\", \"languages\": \"zu,xh,af,nso,en-ZA,tn,st,ts,ss,ve,nr\", \"currency\": \"ZAR\", \"geonameId\": 953987}, {\"iso alpha2\": \"ZM\", \"iso alpha3\": \"ZMB\", \"iso numeric\": 894, \"fips code\": \"ZA\", \"name\": \"Zambia\", \"capital\": \"Lusaka\", \"areaInSqKm\": 752614.0, \"population\": 17351822, \"continent\": \"Africa\", \"languages\": \"en-ZM,bem,loz,lun,lue,ny,toi\", \"currency\": \"ZMW\", \"geonameId\": 895949}, {\"iso alpha2\": \"ZW\", \"iso alpha3\": \"ZWE\", \"iso numeric\": 716, \"fips code\": \"ZI\", \"name\": \"Zimbabwe\", \"capital\": \"Harare\", \"areaInSqKm\": 390580.0, \"population\": 14439018, \"continent\": \"Africa\", \"languages\": \"en-ZW,sn,nr,nd\", \"currency\": \"ZWL\", \"geonameId\": 878675}]}}, {\"mode\": \"vega-lite\"});\n</script>",
            "text/plain": "alt.Chart(...)"
          },
          "metadata": {}
        }
      ],
      "execution_count": 16
    },
    {
      "cell_type": "markdown",
      "source": "✏️ *Replace the `log` with `linear` to see how most countries would cluster close together making it hard to see any patterns.*",
      "metadata": {
        "id": "f6qz1sobEVO1",
        "cell_id": "d2923fa6b51b40fb903b25d7fc1ce2c1",
        "colab_type": "text",
        "deepnote_cell_height": 74,
        "deepnote_app_coordinates": {
          "h": 2,
          "w": 12,
          "x": 0,
          "y": 323
        },
        "deepnote_cell_type": "markdown"
      }
    },
    {
      "cell_type": "markdown",
      "source": "This visualization is interactive: you can hover over each entry, zoom into the scatterplot (by scrolling in and out), and drag it around to adjust the axis segments in view. Double-clicking resets the zoom and panning.\n\n**If you have so far just read the notebook, it's time to make it work, i.e., to actually run these code cells and do the pencil activities. For this you need to either log into Deepnote or download the notebook and run it in a local Jupyter installation.**",
      "metadata": {
        "id": "jhy9AS8v-FFJ",
        "cell_id": "cb7a2fd062da4d66bd7f2a90bef62a14",
        "colab_type": "text",
        "deepnote_cell_height": 176,
        "deepnote_app_coordinates": {
          "h": 3,
          "w": 12,
          "x": 0,
          "y": 326
        },
        "deepnote_cell_type": "markdown"
      }
    },
    {
      "cell_type": "markdown",
      "source": "## 📚 Let's go to the library\n\nHere are a few places where you can dive deeper into the things you learned about in this first tutorial:\n\n* [An Informal Introduction to Python](https://docs.python.org/3/tutorial/introduction.html)\n* [Tutorials for getting started with Pandas](https://pandas.pydata.org/docs/getting_started/intro_tutorials/index.html)\n* [Altair Website](https://altair-viz.github.io/index.html)\n* [Markdown Cheatsheet](https://github.com/adam-p/markdown-here/wiki/Markdown-Cheatsheet)\n",
      "metadata": {
        "id": "QM8_4GG2WDlN",
        "cell_id": "4f5c2d2d61bb4ac381eb48f3d7903133",
        "colab_type": "text",
        "deepnote_cell_height": 280,
        "deepnote_app_coordinates": {
          "h": 8,
          "w": 12,
          "x": 0,
          "y": 330
        },
        "deepnote_cell_type": "markdown"
      }
    },
    {
      "cell_type": "markdown",
      "source": "<a style='text-decoration:none;line-height:16px;display:flex;color:#5B5B62;padding:10px;justify-content:end;' href='https://deepnote.com?utm_source=created-in-deepnote-cell&projectId=4442fbcd-c9e6-471d-ad20-ed32828751f9' target=\"_blank\">\n<img alt='Created in deepnote.com' style='display:inline;max-height:16px;margin:0px;margin-right:7.5px;' src='data:image/svg+xml;base64,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' > </img>\nCreated in <span style='font-weight:600;margin-left:4px;'>Deepnote</span></a>",
      "metadata": {
        "created_in_deepnote_cell": true,
        "deepnote_cell_type": "markdown"
      }
    }
  ],
  "nbformat": 4,
  "nbformat_minor": 0,
  "metadata": {
    "colab": {
      "name": "infovis1start.ipynb",
      "provenance": [],
      "toc_visible": true,
      "collapsed_sections": []
    },
    "nteract": {
      "version": "0.22.0"
    },
    "deepnote": {},
    "kernelspec": {
      "name": "python3",
      "language": "python",
      "display_name": "Python 3"
    },
    "language_info": {
      "name": "python",
      "version": "3.7.2",
      "mimetype": "text/x-python",
      "file_extension": ".py",
      "pygments_lexer": "ipython3",
      "codemirror_mode": {
        "name": "ipython",
        "version": 3
      },
      "nbconvert_exporter": "python"
    },
    "deepnote_app_layout": "article",
    "deepnote_notebook_id": "a2ae091fabfd4ca5b356f7be18fdeae9",
    "deepnote_execution_queue": [],
    "deepnote_persisted_session": {
      "createdAt": "2023-04-06T21:46:26.300Z"
    }
  }
}